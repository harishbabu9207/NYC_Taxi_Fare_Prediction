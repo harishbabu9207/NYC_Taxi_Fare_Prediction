{
 "cells": [
  {
   "cell_type": "markdown",
   "metadata": {
    "colab_type": "text",
    "id": "ZAerS6pGvaMr"
   },
   "source": [
    "# Capital One Code Challenge Data Science\n",
    "\n",
    "This coding challenge is designed to test your skill and intuition about real world data. For the challenge, we will use data collected by the New York City Taxi and Limousine commission about “Green” Taxis. Green Taxis (as opposed to yellow ones) are taxis that are not allowed to pick up passengers inside of the densely populated areas of Manhattan. We will use the data from September 2015. We are using NYC Taxi and Limousine trip record data: (http://www.nyc.gov/html/tlc/html/about/trip_record_data.shtml)."
   ]
  },
  {
   "cell_type": "markdown",
   "metadata": {},
   "source": [
    "# Harish Babu Umapathy\n",
    "# 02/08/2019\n",
    "# Workday ID:C946201"
   ]
  },
  {
   "cell_type": "markdown",
   "metadata": {
    "colab_type": "text",
    "id": "pQokyl4AwDmp"
   },
   "source": [
    "# Load required Python Modules"
   ]
  },
  {
   "cell_type": "code",
   "execution_count": 3,
   "metadata": {
    "colab": {},
    "colab_type": "code",
    "id": "TrZ4GVFbvYik"
   },
   "outputs": [],
   "source": [
    "##Import all Necessary Python Modules\n",
    "import matplotlib.pyplot as plt\n",
    "import seaborn as sns\n",
    "from datetime import datetime\n",
    "import numpy as np\n",
    "import pandas as pd\n",
    "import datetime as dt\n",
    "from sklearn.ensemble import RandomForestClassifier\n",
    "from sklearn.preprocessing import robust_scale\n",
    "from sklearn import preprocessing\n",
    "from sklearn.preprocessing import OneHotEncoder\n",
    "from sklearn import metrics\n",
    "from sklearn.metrics import mean_squared_error\n",
    "from sklearn.model_selection import cross_validate,train_test_split\n",
    "from scipy.stats import ttest_ind, f_oneway, lognorm, levy, skew, chisquare\n",
    "from sklearn import datasets, linear_model\n",
    "from tabulate import tabulate ##Execute ! pip install tabulate to load for first time\n",
    "import scipy.stats as stats\n",
    "import statistics\n",
    "from pandas_summary import DataFrameSummary\n",
    "from sklearn.ensemble import RandomForestRegressor, RandomForestClassifier\n",
    "from IPython.display import display\n",
    "import warnings\n",
    "warnings.filterwarnings(\"ignore\", category=DeprecationWarning) "
   ]
  },
  {
   "cell_type": "code",
   "execution_count": 4,
   "metadata": {},
   "outputs": [],
   "source": [
    "## Execute the below statement for installing the module for the first time\n",
    "#! pip install tabulate"
   ]
  },
  {
   "cell_type": "markdown",
   "metadata": {
    "colab_type": "text",
    "id": "eGhpd3WWwqJw"
   },
   "source": [
    "# Question 1\n",
    "### a. Programmatically download and load into your favorite analytical tool the trip data for September 2015."
   ]
  },
  {
   "cell_type": "code",
   "execution_count": 5,
   "metadata": {
    "colab": {},
    "colab_type": "code",
    "id": "rsVh4y3HvYin"
   },
   "outputs": [
    {
     "data": {
      "text/html": [
       "<div>\n",
       "<style scoped>\n",
       "    .dataframe tbody tr th:only-of-type {\n",
       "        vertical-align: middle;\n",
       "    }\n",
       "\n",
       "    .dataframe tbody tr th {\n",
       "        vertical-align: top;\n",
       "    }\n",
       "\n",
       "    .dataframe thead th {\n",
       "        text-align: right;\n",
       "    }\n",
       "</style>\n",
       "<table border=\"1\" class=\"dataframe\">\n",
       "  <thead>\n",
       "    <tr style=\"text-align: right;\">\n",
       "      <th></th>\n",
       "      <th>VendorID</th>\n",
       "      <th>lpep_pickup_datetime</th>\n",
       "      <th>Lpep_dropoff_datetime</th>\n",
       "      <th>Store_and_fwd_flag</th>\n",
       "      <th>RateCodeID</th>\n",
       "      <th>Pickup_longitude</th>\n",
       "      <th>Pickup_latitude</th>\n",
       "      <th>Dropoff_longitude</th>\n",
       "      <th>Dropoff_latitude</th>\n",
       "      <th>Passenger_count</th>\n",
       "      <th>...</th>\n",
       "      <th>Fare_amount</th>\n",
       "      <th>Extra</th>\n",
       "      <th>MTA_tax</th>\n",
       "      <th>Tip_amount</th>\n",
       "      <th>Tolls_amount</th>\n",
       "      <th>Ehail_fee</th>\n",
       "      <th>improvement_surcharge</th>\n",
       "      <th>Total_amount</th>\n",
       "      <th>Payment_type</th>\n",
       "      <th>Trip_type</th>\n",
       "    </tr>\n",
       "  </thead>\n",
       "  <tbody>\n",
       "    <tr>\n",
       "      <th>0</th>\n",
       "      <td>2</td>\n",
       "      <td>2015-09-01 00:02:34</td>\n",
       "      <td>2015-09-01 00:02:38</td>\n",
       "      <td>N</td>\n",
       "      <td>5</td>\n",
       "      <td>-73.979485</td>\n",
       "      <td>40.684956</td>\n",
       "      <td>-73.979431</td>\n",
       "      <td>40.685020</td>\n",
       "      <td>1</td>\n",
       "      <td>...</td>\n",
       "      <td>7.8</td>\n",
       "      <td>0.0</td>\n",
       "      <td>0.0</td>\n",
       "      <td>1.95</td>\n",
       "      <td>0.0</td>\n",
       "      <td>NaN</td>\n",
       "      <td>0.0</td>\n",
       "      <td>9.75</td>\n",
       "      <td>1</td>\n",
       "      <td>2.0</td>\n",
       "    </tr>\n",
       "    <tr>\n",
       "      <th>1</th>\n",
       "      <td>2</td>\n",
       "      <td>2015-09-01 00:04:20</td>\n",
       "      <td>2015-09-01 00:04:24</td>\n",
       "      <td>N</td>\n",
       "      <td>5</td>\n",
       "      <td>-74.010796</td>\n",
       "      <td>40.912216</td>\n",
       "      <td>-74.010780</td>\n",
       "      <td>40.912212</td>\n",
       "      <td>1</td>\n",
       "      <td>...</td>\n",
       "      <td>45.0</td>\n",
       "      <td>0.0</td>\n",
       "      <td>0.0</td>\n",
       "      <td>0.00</td>\n",
       "      <td>0.0</td>\n",
       "      <td>NaN</td>\n",
       "      <td>0.0</td>\n",
       "      <td>45.00</td>\n",
       "      <td>1</td>\n",
       "      <td>2.0</td>\n",
       "    </tr>\n",
       "    <tr>\n",
       "      <th>2</th>\n",
       "      <td>2</td>\n",
       "      <td>2015-09-01 00:01:50</td>\n",
       "      <td>2015-09-01 00:04:24</td>\n",
       "      <td>N</td>\n",
       "      <td>1</td>\n",
       "      <td>-73.921410</td>\n",
       "      <td>40.766708</td>\n",
       "      <td>-73.914413</td>\n",
       "      <td>40.764687</td>\n",
       "      <td>1</td>\n",
       "      <td>...</td>\n",
       "      <td>4.0</td>\n",
       "      <td>0.5</td>\n",
       "      <td>0.5</td>\n",
       "      <td>0.50</td>\n",
       "      <td>0.0</td>\n",
       "      <td>NaN</td>\n",
       "      <td>0.3</td>\n",
       "      <td>5.80</td>\n",
       "      <td>1</td>\n",
       "      <td>1.0</td>\n",
       "    </tr>\n",
       "    <tr>\n",
       "      <th>3</th>\n",
       "      <td>2</td>\n",
       "      <td>2015-09-01 00:02:36</td>\n",
       "      <td>2015-09-01 00:06:42</td>\n",
       "      <td>N</td>\n",
       "      <td>1</td>\n",
       "      <td>-73.921387</td>\n",
       "      <td>40.766678</td>\n",
       "      <td>-73.931427</td>\n",
       "      <td>40.771584</td>\n",
       "      <td>1</td>\n",
       "      <td>...</td>\n",
       "      <td>5.0</td>\n",
       "      <td>0.5</td>\n",
       "      <td>0.5</td>\n",
       "      <td>0.00</td>\n",
       "      <td>0.0</td>\n",
       "      <td>NaN</td>\n",
       "      <td>0.3</td>\n",
       "      <td>6.30</td>\n",
       "      <td>2</td>\n",
       "      <td>1.0</td>\n",
       "    </tr>\n",
       "    <tr>\n",
       "      <th>4</th>\n",
       "      <td>2</td>\n",
       "      <td>2015-09-01 00:00:14</td>\n",
       "      <td>2015-09-01 00:04:20</td>\n",
       "      <td>N</td>\n",
       "      <td>1</td>\n",
       "      <td>-73.955482</td>\n",
       "      <td>40.714046</td>\n",
       "      <td>-73.944412</td>\n",
       "      <td>40.714729</td>\n",
       "      <td>1</td>\n",
       "      <td>...</td>\n",
       "      <td>5.0</td>\n",
       "      <td>0.5</td>\n",
       "      <td>0.5</td>\n",
       "      <td>0.00</td>\n",
       "      <td>0.0</td>\n",
       "      <td>NaN</td>\n",
       "      <td>0.3</td>\n",
       "      <td>6.30</td>\n",
       "      <td>2</td>\n",
       "      <td>1.0</td>\n",
       "    </tr>\n",
       "  </tbody>\n",
       "</table>\n",
       "<p>5 rows × 21 columns</p>\n",
       "</div>"
      ],
      "text/plain": [
       "   VendorID lpep_pickup_datetime Lpep_dropoff_datetime Store_and_fwd_flag  \\\n",
       "0         2  2015-09-01 00:02:34   2015-09-01 00:02:38                  N   \n",
       "1         2  2015-09-01 00:04:20   2015-09-01 00:04:24                  N   \n",
       "2         2  2015-09-01 00:01:50   2015-09-01 00:04:24                  N   \n",
       "3         2  2015-09-01 00:02:36   2015-09-01 00:06:42                  N   \n",
       "4         2  2015-09-01 00:00:14   2015-09-01 00:04:20                  N   \n",
       "\n",
       "   RateCodeID  Pickup_longitude  Pickup_latitude  Dropoff_longitude  \\\n",
       "0           5        -73.979485        40.684956         -73.979431   \n",
       "1           5        -74.010796        40.912216         -74.010780   \n",
       "2           1        -73.921410        40.766708         -73.914413   \n",
       "3           1        -73.921387        40.766678         -73.931427   \n",
       "4           1        -73.955482        40.714046         -73.944412   \n",
       "\n",
       "   Dropoff_latitude  Passenger_count     ...      Fare_amount  Extra  MTA_tax  \\\n",
       "0         40.685020                1     ...              7.8    0.0      0.0   \n",
       "1         40.912212                1     ...             45.0    0.0      0.0   \n",
       "2         40.764687                1     ...              4.0    0.5      0.5   \n",
       "3         40.771584                1     ...              5.0    0.5      0.5   \n",
       "4         40.714729                1     ...              5.0    0.5      0.5   \n",
       "\n",
       "   Tip_amount  Tolls_amount  Ehail_fee  improvement_surcharge  Total_amount  \\\n",
       "0        1.95           0.0        NaN                    0.0          9.75   \n",
       "1        0.00           0.0        NaN                    0.0         45.00   \n",
       "2        0.50           0.0        NaN                    0.3          5.80   \n",
       "3        0.00           0.0        NaN                    0.3          6.30   \n",
       "4        0.00           0.0        NaN                    0.3          6.30   \n",
       "\n",
       "   Payment_type  Trip_type   \n",
       "0             1         2.0  \n",
       "1             1         2.0  \n",
       "2             1         1.0  \n",
       "3             2         1.0  \n",
       "4             2         1.0  \n",
       "\n",
       "[5 rows x 21 columns]"
      ]
     },
     "execution_count": 5,
     "metadata": {},
     "output_type": "execute_result"
    }
   ],
   "source": [
    "##Place the data file in the same folder where the notebook is present\n",
    "nyc_trip = pd.read_csv(\"green_tripdata_2015-09.csv\",engine='python')\n",
    "nyc_trip.head()"
   ]
  },
  {
   "cell_type": "code",
   "execution_count": 6,
   "metadata": {
    "colab": {},
    "colab_type": "code",
    "id": "asBRmMMEvYiy",
    "outputId": "03330ac3-7483-4e3a-8de3-0b61b3fa5859",
    "scrolled": true
   },
   "outputs": [
    {
     "data": {
      "text/html": [
       "<div>\n",
       "<style scoped>\n",
       "    .dataframe tbody tr th:only-of-type {\n",
       "        vertical-align: middle;\n",
       "    }\n",
       "\n",
       "    .dataframe tbody tr th {\n",
       "        vertical-align: top;\n",
       "    }\n",
       "\n",
       "    .dataframe thead th {\n",
       "        text-align: right;\n",
       "    }\n",
       "</style>\n",
       "<table border=\"1\" class=\"dataframe\">\n",
       "  <thead>\n",
       "    <tr style=\"text-align: right;\">\n",
       "      <th></th>\n",
       "      <th>VendorID</th>\n",
       "      <th>lpep_pickup_datetime</th>\n",
       "      <th>Lpep_dropoff_datetime</th>\n",
       "      <th>Store_and_fwd_flag</th>\n",
       "      <th>RateCodeID</th>\n",
       "      <th>Pickup_longitude</th>\n",
       "      <th>Pickup_latitude</th>\n",
       "      <th>Dropoff_longitude</th>\n",
       "      <th>Dropoff_latitude</th>\n",
       "      <th>Passenger_count</th>\n",
       "      <th>...</th>\n",
       "      <th>Fare_amount</th>\n",
       "      <th>Extra</th>\n",
       "      <th>MTA_tax</th>\n",
       "      <th>Tip_amount</th>\n",
       "      <th>Tolls_amount</th>\n",
       "      <th>Ehail_fee</th>\n",
       "      <th>improvement_surcharge</th>\n",
       "      <th>Total_amount</th>\n",
       "      <th>Payment_type</th>\n",
       "      <th>Trip_type</th>\n",
       "    </tr>\n",
       "  </thead>\n",
       "  <tbody>\n",
       "    <tr>\n",
       "      <th>count</th>\n",
       "      <td>1.494926e+06</td>\n",
       "      <td>1494926</td>\n",
       "      <td>1494926</td>\n",
       "      <td>1494926</td>\n",
       "      <td>1.494926e+06</td>\n",
       "      <td>1.494926e+06</td>\n",
       "      <td>1.494926e+06</td>\n",
       "      <td>1.494926e+06</td>\n",
       "      <td>1.494926e+06</td>\n",
       "      <td>1.494926e+06</td>\n",
       "      <td>...</td>\n",
       "      <td>1.494926e+06</td>\n",
       "      <td>1.494926e+06</td>\n",
       "      <td>1.494926e+06</td>\n",
       "      <td>1.494926e+06</td>\n",
       "      <td>1.494926e+06</td>\n",
       "      <td>0.0</td>\n",
       "      <td>1.494926e+06</td>\n",
       "      <td>1.494926e+06</td>\n",
       "      <td>1.494926e+06</td>\n",
       "      <td>1.494922e+06</td>\n",
       "    </tr>\n",
       "    <tr>\n",
       "      <th>unique</th>\n",
       "      <td>NaN</td>\n",
       "      <td>1079075</td>\n",
       "      <td>1077210</td>\n",
       "      <td>2</td>\n",
       "      <td>NaN</td>\n",
       "      <td>NaN</td>\n",
       "      <td>NaN</td>\n",
       "      <td>NaN</td>\n",
       "      <td>NaN</td>\n",
       "      <td>NaN</td>\n",
       "      <td>...</td>\n",
       "      <td>NaN</td>\n",
       "      <td>NaN</td>\n",
       "      <td>NaN</td>\n",
       "      <td>NaN</td>\n",
       "      <td>NaN</td>\n",
       "      <td>NaN</td>\n",
       "      <td>NaN</td>\n",
       "      <td>NaN</td>\n",
       "      <td>NaN</td>\n",
       "      <td>NaN</td>\n",
       "    </tr>\n",
       "    <tr>\n",
       "      <th>top</th>\n",
       "      <td>NaN</td>\n",
       "      <td>2015-09-20 02:00:32</td>\n",
       "      <td>2015-09-28 00:00:00</td>\n",
       "      <td>N</td>\n",
       "      <td>NaN</td>\n",
       "      <td>NaN</td>\n",
       "      <td>NaN</td>\n",
       "      <td>NaN</td>\n",
       "      <td>NaN</td>\n",
       "      <td>NaN</td>\n",
       "      <td>...</td>\n",
       "      <td>NaN</td>\n",
       "      <td>NaN</td>\n",
       "      <td>NaN</td>\n",
       "      <td>NaN</td>\n",
       "      <td>NaN</td>\n",
       "      <td>NaN</td>\n",
       "      <td>NaN</td>\n",
       "      <td>NaN</td>\n",
       "      <td>NaN</td>\n",
       "      <td>NaN</td>\n",
       "    </tr>\n",
       "    <tr>\n",
       "      <th>freq</th>\n",
       "      <td>NaN</td>\n",
       "      <td>9</td>\n",
       "      <td>172</td>\n",
       "      <td>1486192</td>\n",
       "      <td>NaN</td>\n",
       "      <td>NaN</td>\n",
       "      <td>NaN</td>\n",
       "      <td>NaN</td>\n",
       "      <td>NaN</td>\n",
       "      <td>NaN</td>\n",
       "      <td>...</td>\n",
       "      <td>NaN</td>\n",
       "      <td>NaN</td>\n",
       "      <td>NaN</td>\n",
       "      <td>NaN</td>\n",
       "      <td>NaN</td>\n",
       "      <td>NaN</td>\n",
       "      <td>NaN</td>\n",
       "      <td>NaN</td>\n",
       "      <td>NaN</td>\n",
       "      <td>NaN</td>\n",
       "    </tr>\n",
       "    <tr>\n",
       "      <th>mean</th>\n",
       "      <td>1.782045e+00</td>\n",
       "      <td>NaN</td>\n",
       "      <td>NaN</td>\n",
       "      <td>NaN</td>\n",
       "      <td>1.097653e+00</td>\n",
       "      <td>-7.383084e+01</td>\n",
       "      <td>4.069114e+01</td>\n",
       "      <td>-7.383728e+01</td>\n",
       "      <td>4.069291e+01</td>\n",
       "      <td>1.370598e+00</td>\n",
       "      <td>...</td>\n",
       "      <td>1.254320e+01</td>\n",
       "      <td>3.512800e-01</td>\n",
       "      <td>4.866408e-01</td>\n",
       "      <td>1.235727e+00</td>\n",
       "      <td>1.231047e-01</td>\n",
       "      <td>NaN</td>\n",
       "      <td>2.920991e-01</td>\n",
       "      <td>1.503215e+01</td>\n",
       "      <td>1.540559e+00</td>\n",
       "      <td>1.022353e+00</td>\n",
       "    </tr>\n",
       "    <tr>\n",
       "      <th>std</th>\n",
       "      <td>4.128570e-01</td>\n",
       "      <td>NaN</td>\n",
       "      <td>NaN</td>\n",
       "      <td>NaN</td>\n",
       "      <td>6.359437e-01</td>\n",
       "      <td>2.776082e+00</td>\n",
       "      <td>1.530882e+00</td>\n",
       "      <td>2.677911e+00</td>\n",
       "      <td>1.476698e+00</td>\n",
       "      <td>1.039426e+00</td>\n",
       "      <td>...</td>\n",
       "      <td>1.008278e+01</td>\n",
       "      <td>3.663096e-01</td>\n",
       "      <td>8.504473e-02</td>\n",
       "      <td>2.431476e+00</td>\n",
       "      <td>8.910137e-01</td>\n",
       "      <td>NaN</td>\n",
       "      <td>5.074009e-02</td>\n",
       "      <td>1.155316e+01</td>\n",
       "      <td>5.232935e-01</td>\n",
       "      <td>1.478288e-01</td>\n",
       "    </tr>\n",
       "    <tr>\n",
       "      <th>min</th>\n",
       "      <td>1.000000e+00</td>\n",
       "      <td>NaN</td>\n",
       "      <td>NaN</td>\n",
       "      <td>NaN</td>\n",
       "      <td>1.000000e+00</td>\n",
       "      <td>-8.331908e+01</td>\n",
       "      <td>0.000000e+00</td>\n",
       "      <td>-8.342784e+01</td>\n",
       "      <td>0.000000e+00</td>\n",
       "      <td>0.000000e+00</td>\n",
       "      <td>...</td>\n",
       "      <td>-4.750000e+02</td>\n",
       "      <td>-1.000000e+00</td>\n",
       "      <td>-5.000000e-01</td>\n",
       "      <td>-5.000000e+01</td>\n",
       "      <td>-1.529000e+01</td>\n",
       "      <td>NaN</td>\n",
       "      <td>-3.000000e-01</td>\n",
       "      <td>-4.750000e+02</td>\n",
       "      <td>1.000000e+00</td>\n",
       "      <td>1.000000e+00</td>\n",
       "    </tr>\n",
       "    <tr>\n",
       "      <th>25%</th>\n",
       "      <td>2.000000e+00</td>\n",
       "      <td>NaN</td>\n",
       "      <td>NaN</td>\n",
       "      <td>NaN</td>\n",
       "      <td>1.000000e+00</td>\n",
       "      <td>-7.395961e+01</td>\n",
       "      <td>4.069895e+01</td>\n",
       "      <td>-7.396782e+01</td>\n",
       "      <td>4.069878e+01</td>\n",
       "      <td>1.000000e+00</td>\n",
       "      <td>...</td>\n",
       "      <td>6.500000e+00</td>\n",
       "      <td>0.000000e+00</td>\n",
       "      <td>5.000000e-01</td>\n",
       "      <td>0.000000e+00</td>\n",
       "      <td>0.000000e+00</td>\n",
       "      <td>NaN</td>\n",
       "      <td>3.000000e-01</td>\n",
       "      <td>8.160000e+00</td>\n",
       "      <td>1.000000e+00</td>\n",
       "      <td>1.000000e+00</td>\n",
       "    </tr>\n",
       "    <tr>\n",
       "      <th>50%</th>\n",
       "      <td>2.000000e+00</td>\n",
       "      <td>NaN</td>\n",
       "      <td>NaN</td>\n",
       "      <td>NaN</td>\n",
       "      <td>1.000000e+00</td>\n",
       "      <td>-7.394536e+01</td>\n",
       "      <td>4.074674e+01</td>\n",
       "      <td>-7.394504e+01</td>\n",
       "      <td>4.074728e+01</td>\n",
       "      <td>1.000000e+00</td>\n",
       "      <td>...</td>\n",
       "      <td>9.500000e+00</td>\n",
       "      <td>5.000000e-01</td>\n",
       "      <td>5.000000e-01</td>\n",
       "      <td>0.000000e+00</td>\n",
       "      <td>0.000000e+00</td>\n",
       "      <td>NaN</td>\n",
       "      <td>3.000000e-01</td>\n",
       "      <td>1.176000e+01</td>\n",
       "      <td>2.000000e+00</td>\n",
       "      <td>1.000000e+00</td>\n",
       "    </tr>\n",
       "    <tr>\n",
       "      <th>75%</th>\n",
       "      <td>2.000000e+00</td>\n",
       "      <td>NaN</td>\n",
       "      <td>NaN</td>\n",
       "      <td>NaN</td>\n",
       "      <td>1.000000e+00</td>\n",
       "      <td>-7.391748e+01</td>\n",
       "      <td>4.080255e+01</td>\n",
       "      <td>-7.391013e+01</td>\n",
       "      <td>4.079015e+01</td>\n",
       "      <td>1.000000e+00</td>\n",
       "      <td>...</td>\n",
       "      <td>1.550000e+01</td>\n",
       "      <td>5.000000e-01</td>\n",
       "      <td>5.000000e-01</td>\n",
       "      <td>2.000000e+00</td>\n",
       "      <td>0.000000e+00</td>\n",
       "      <td>NaN</td>\n",
       "      <td>3.000000e-01</td>\n",
       "      <td>1.830000e+01</td>\n",
       "      <td>2.000000e+00</td>\n",
       "      <td>1.000000e+00</td>\n",
       "    </tr>\n",
       "    <tr>\n",
       "      <th>max</th>\n",
       "      <td>2.000000e+00</td>\n",
       "      <td>NaN</td>\n",
       "      <td>NaN</td>\n",
       "      <td>NaN</td>\n",
       "      <td>9.900000e+01</td>\n",
       "      <td>0.000000e+00</td>\n",
       "      <td>4.317726e+01</td>\n",
       "      <td>0.000000e+00</td>\n",
       "      <td>4.279934e+01</td>\n",
       "      <td>9.000000e+00</td>\n",
       "      <td>...</td>\n",
       "      <td>5.805000e+02</td>\n",
       "      <td>1.200000e+01</td>\n",
       "      <td>5.000000e-01</td>\n",
       "      <td>3.000000e+02</td>\n",
       "      <td>9.575000e+01</td>\n",
       "      <td>NaN</td>\n",
       "      <td>3.000000e-01</td>\n",
       "      <td>5.813000e+02</td>\n",
       "      <td>5.000000e+00</td>\n",
       "      <td>2.000000e+00</td>\n",
       "    </tr>\n",
       "  </tbody>\n",
       "</table>\n",
       "<p>11 rows × 21 columns</p>\n",
       "</div>"
      ],
      "text/plain": [
       "            VendorID lpep_pickup_datetime Lpep_dropoff_datetime  \\\n",
       "count   1.494926e+06              1494926               1494926   \n",
       "unique           NaN              1079075               1077210   \n",
       "top              NaN  2015-09-20 02:00:32   2015-09-28 00:00:00   \n",
       "freq             NaN                    9                   172   \n",
       "mean    1.782045e+00                  NaN                   NaN   \n",
       "std     4.128570e-01                  NaN                   NaN   \n",
       "min     1.000000e+00                  NaN                   NaN   \n",
       "25%     2.000000e+00                  NaN                   NaN   \n",
       "50%     2.000000e+00                  NaN                   NaN   \n",
       "75%     2.000000e+00                  NaN                   NaN   \n",
       "max     2.000000e+00                  NaN                   NaN   \n",
       "\n",
       "       Store_and_fwd_flag    RateCodeID  Pickup_longitude  Pickup_latitude  \\\n",
       "count             1494926  1.494926e+06      1.494926e+06     1.494926e+06   \n",
       "unique                  2           NaN               NaN              NaN   \n",
       "top                     N           NaN               NaN              NaN   \n",
       "freq              1486192           NaN               NaN              NaN   \n",
       "mean                  NaN  1.097653e+00     -7.383084e+01     4.069114e+01   \n",
       "std                   NaN  6.359437e-01      2.776082e+00     1.530882e+00   \n",
       "min                   NaN  1.000000e+00     -8.331908e+01     0.000000e+00   \n",
       "25%                   NaN  1.000000e+00     -7.395961e+01     4.069895e+01   \n",
       "50%                   NaN  1.000000e+00     -7.394536e+01     4.074674e+01   \n",
       "75%                   NaN  1.000000e+00     -7.391748e+01     4.080255e+01   \n",
       "max                   NaN  9.900000e+01      0.000000e+00     4.317726e+01   \n",
       "\n",
       "        Dropoff_longitude  Dropoff_latitude  Passenger_count      ...       \\\n",
       "count        1.494926e+06      1.494926e+06     1.494926e+06      ...        \n",
       "unique                NaN               NaN              NaN      ...        \n",
       "top                   NaN               NaN              NaN      ...        \n",
       "freq                  NaN               NaN              NaN      ...        \n",
       "mean        -7.383728e+01      4.069291e+01     1.370598e+00      ...        \n",
       "std          2.677911e+00      1.476698e+00     1.039426e+00      ...        \n",
       "min         -8.342784e+01      0.000000e+00     0.000000e+00      ...        \n",
       "25%         -7.396782e+01      4.069878e+01     1.000000e+00      ...        \n",
       "50%         -7.394504e+01      4.074728e+01     1.000000e+00      ...        \n",
       "75%         -7.391013e+01      4.079015e+01     1.000000e+00      ...        \n",
       "max          0.000000e+00      4.279934e+01     9.000000e+00      ...        \n",
       "\n",
       "         Fare_amount         Extra       MTA_tax    Tip_amount  Tolls_amount  \\\n",
       "count   1.494926e+06  1.494926e+06  1.494926e+06  1.494926e+06  1.494926e+06   \n",
       "unique           NaN           NaN           NaN           NaN           NaN   \n",
       "top              NaN           NaN           NaN           NaN           NaN   \n",
       "freq             NaN           NaN           NaN           NaN           NaN   \n",
       "mean    1.254320e+01  3.512800e-01  4.866408e-01  1.235727e+00  1.231047e-01   \n",
       "std     1.008278e+01  3.663096e-01  8.504473e-02  2.431476e+00  8.910137e-01   \n",
       "min    -4.750000e+02 -1.000000e+00 -5.000000e-01 -5.000000e+01 -1.529000e+01   \n",
       "25%     6.500000e+00  0.000000e+00  5.000000e-01  0.000000e+00  0.000000e+00   \n",
       "50%     9.500000e+00  5.000000e-01  5.000000e-01  0.000000e+00  0.000000e+00   \n",
       "75%     1.550000e+01  5.000000e-01  5.000000e-01  2.000000e+00  0.000000e+00   \n",
       "max     5.805000e+02  1.200000e+01  5.000000e-01  3.000000e+02  9.575000e+01   \n",
       "\n",
       "        Ehail_fee  improvement_surcharge  Total_amount  Payment_type  \\\n",
       "count         0.0           1.494926e+06  1.494926e+06  1.494926e+06   \n",
       "unique        NaN                    NaN           NaN           NaN   \n",
       "top           NaN                    NaN           NaN           NaN   \n",
       "freq          NaN                    NaN           NaN           NaN   \n",
       "mean          NaN           2.920991e-01  1.503215e+01  1.540559e+00   \n",
       "std           NaN           5.074009e-02  1.155316e+01  5.232935e-01   \n",
       "min           NaN          -3.000000e-01 -4.750000e+02  1.000000e+00   \n",
       "25%           NaN           3.000000e-01  8.160000e+00  1.000000e+00   \n",
       "50%           NaN           3.000000e-01  1.176000e+01  2.000000e+00   \n",
       "75%           NaN           3.000000e-01  1.830000e+01  2.000000e+00   \n",
       "max           NaN           3.000000e-01  5.813000e+02  5.000000e+00   \n",
       "\n",
       "          Trip_type   \n",
       "count   1.494922e+06  \n",
       "unique           NaN  \n",
       "top              NaN  \n",
       "freq             NaN  \n",
       "mean    1.022353e+00  \n",
       "std     1.478288e-01  \n",
       "min     1.000000e+00  \n",
       "25%     1.000000e+00  \n",
       "50%     1.000000e+00  \n",
       "75%     1.000000e+00  \n",
       "max     2.000000e+00  \n",
       "\n",
       "[11 rows x 21 columns]"
      ]
     },
     "execution_count": 6,
     "metadata": {},
     "output_type": "execute_result"
    }
   ],
   "source": [
    "##Check for all column features using describe\n",
    "nyc_trip.describe(include='all')"
   ]
  },
  {
   "cell_type": "code",
   "execution_count": 7,
   "metadata": {},
   "outputs": [
    {
     "name": "stdout",
     "output_type": "stream",
     "text": [
      "<class 'pandas.core.frame.DataFrame'>\n",
      "RangeIndex: 1494926 entries, 0 to 1494925\n",
      "Data columns (total 21 columns):\n",
      "VendorID                 1494926 non-null int64\n",
      "lpep_pickup_datetime     1494926 non-null object\n",
      "Lpep_dropoff_datetime    1494926 non-null object\n",
      "Store_and_fwd_flag       1494926 non-null object\n",
      "RateCodeID               1494926 non-null int64\n",
      "Pickup_longitude         1494926 non-null float64\n",
      "Pickup_latitude          1494926 non-null float64\n",
      "Dropoff_longitude        1494926 non-null float64\n",
      "Dropoff_latitude         1494926 non-null float64\n",
      "Passenger_count          1494926 non-null int64\n",
      "Trip_distance            1494926 non-null float64\n",
      "Fare_amount              1494926 non-null float64\n",
      "Extra                    1494926 non-null float64\n",
      "MTA_tax                  1494926 non-null float64\n",
      "Tip_amount               1494926 non-null float64\n",
      "Tolls_amount             1494926 non-null float64\n",
      "Ehail_fee                0 non-null float64\n",
      "improvement_surcharge    1494926 non-null float64\n",
      "Total_amount             1494926 non-null float64\n",
      "Payment_type             1494926 non-null int64\n",
      "Trip_type                1494922 non-null float64\n",
      "dtypes: float64(14), int64(4), object(3)\n",
      "memory usage: 239.5+ MB\n"
     ]
    }
   ],
   "source": [
    "nyc_trip.info() # data info"
   ]
  },
  {
   "cell_type": "markdown",
   "metadata": {
    "colab_type": "text",
    "id": "jt03XrSLxIdM"
   },
   "source": [
    "### b.Report how many rows and columns of data you have loaded.**"
   ]
  },
  {
   "cell_type": "code",
   "execution_count": 8,
   "metadata": {
    "colab": {},
    "colab_type": "code",
    "id": "0vTHEzFhvYi7",
    "outputId": "7dc61542-3168-46fa-9b3a-075d33e4bed2"
   },
   "outputs": [
    {
     "name": "stdout",
     "output_type": "stream",
     "text": [
      "Number of rows: 1494926\n",
      "Number of columns: 21\n"
     ]
    }
   ],
   "source": [
    "print(\"Number of rows:\", nyc_trip.shape[0])\n",
    "print(\"Number of columns:\", nyc_trip.shape[1])"
   ]
  },
  {
   "cell_type": "markdown",
   "metadata": {
    "colab_type": "text",
    "id": "-sobktPixYRw"
   },
   "source": [
    "# Question 2\n",
    "### a.Plot a histogram of the number of the trip distance (“Trip Distance”).**"
   ]
  },
  {
   "cell_type": "code",
   "execution_count": 9,
   "metadata": {},
   "outputs": [
    {
     "data": {
      "image/png": "[encoded data removed]",
      "text/plain": [
       "<Figure size 432x288 with 1 Axes>"
      ]
     },
     "metadata": {
      "needs_background": "light"
     },
     "output_type": "display_data"
    }
   ],
   "source": [
    "##Histogram of the number of trip distance.\n",
    "plt.hist(nyc_trip['Trip_distance'])\n",
    "plt.title('A.Histogram of the number of the trip distance(With Outliers)')\n",
    "plt.xlabel('Trip Distance')\n",
    "plt.ylabel('Number of Trips')\n",
    "plt.show()"
   ]
  },
  {
   "cell_type": "markdown",
   "metadata": {},
   "source": [
    "#### Looks like the histogram is just one tall bar.This might be some outliers in the Trip distance.Lets check for any outliers in the data and plot the histogram without outliers"
   ]
  },
  {
   "cell_type": "code",
   "execution_count": 10,
   "metadata": {},
   "outputs": [
    {
     "data": {
      "image/png": "[encoded data removed]",
      "text/plain": [
       "<Figure size 432x288 with 1 Axes>"
      ]
     },
     "metadata": {
      "needs_background": "light"
     },
     "output_type": "display_data"
    }
   ],
   "source": [
    "##Outlier detection using boxplots\n",
    "plt.ylim(0,500)\n",
    "ax = sns.boxplot(y=\"Trip_distance\", data=nyc_trip)"
   ]
  },
  {
   "cell_type": "code",
   "execution_count": 11,
   "metadata": {},
   "outputs": [
    {
     "data": {
      "image/png": "[encoded data removed]",
      "text/plain": [
       "<Figure size 432x288 with 1 Axes>"
      ]
     },
     "metadata": {
      "needs_background": "light"
     },
     "output_type": "display_data"
    }
   ],
   "source": [
    "##set showflier=False.This removes any outlier outside the whiskers\n",
    "plt.ylim(0,20)\n",
    "ax = sns.boxplot(y=\"Trip_distance\",showfliers=False, data=nyc_trip)"
   ]
  },
  {
   "cell_type": "markdown",
   "metadata": {},
   "source": [
    "#### Looks like higher frequency of trips were between 0 to 10 miles.Lets plot histogram with only trip distance between 0 to 10 miles"
   ]
  },
  {
   "cell_type": "code",
   "execution_count": 12,
   "metadata": {},
   "outputs": [
    {
     "data": {
      "image/png": "[encoded data removed]",
      "text/plain": [
       "<Figure size 432x288 with 1 Axes>"
      ]
     },
     "metadata": {
      "needs_background": "light"
     },
     "output_type": "display_data"
    }
   ],
   "source": [
    "## Histogram with trip distance between 0 to 10 miles.\n",
    "plt.hist(nyc_trip['Trip_distance'][nyc_trip['Trip_distance']<=10],bins = 50)\n",
    "plt.title('B.Histogram of the number of the trip distance(Without Outliers)')\n",
    "plt.xlabel('Trip Distance')\n",
    "plt.ylabel('Number of Trips')\n",
    "plt.show()"
   ]
  },
  {
   "cell_type": "markdown",
   "metadata": {
    "colab_type": "text",
    "id": "ZgIV71lqxk24"
   },
   "source": [
    "**b.Report any structure you find and any hypotheses you have about that structure.**"
   ]
  },
  {
   "cell_type": "markdown",
   "metadata": {
    "colab": {},
    "colab_type": "code",
    "id": "6FW27o9Mxq5m"
   },
   "source": [
    "#### Shape of the above histograms: Skewed right.\n",
    "#### The histogram A is just one tall bar, whereas the histogram B is skewed right, with a tail going off to the right. You can see on the right side there are only a small amount of trips when compared to the trips on the left side. Most of the trips were within the 0-5 mile range. A few trips were within the 5-10 mile range and very less were above 10 miles.\n",
    "#### The hypothesis: The Trip Distance is asymmetrically distributed and they are not random. If there were random, we would have a (symmetric) Gaussian distribution."
   ]
  },
  {
   "cell_type": "markdown",
   "metadata": {
    "colab_type": "text",
    "id": "LcjE_9Tnx2-F"
   },
   "source": [
    "# Question 3\n",
    "### a.Report mean and median trip distance grouped by hour of day."
   ]
  },
  {
   "cell_type": "code",
   "execution_count": 13,
   "metadata": {},
   "outputs": [],
   "source": [
    "## We are creating a new field pickup_hour by extracting the hour from lpep_pickup_datetime field\n",
    "nyc_trip['pickup'] = nyc_trip['lpep_pickup_datetime'].apply(lambda x: dt.datetime.strptime(x, '%Y-%m-%d %H:%M:%S'))\n",
    "nyc_trip['pickup_hour'] = nyc_trip['pickup'].apply(lambda x: x.hour) \n",
    "# we're stripping the hour field from the dropoff_datetime field to create a new field named \"dropoff_hour\"\n",
    "nyc_trip['dropoff'] = nyc_trip['Lpep_dropoff_datetime'].apply(lambda x: dt.datetime.strptime(x, '%Y-%m-%d %H:%M:%S'))\n",
    "nyc_trip['dropoff_hour'] = nyc_trip['dropoff'].apply(lambda x: x.hour)# this is a new field for holding the dropoff_hour."
   ]
  },
  {
   "cell_type": "code",
   "execution_count": 14,
   "metadata": {},
   "outputs": [],
   "source": [
    "## Extract the day of the week and convert pickup and dropoff field to datetime\n",
    "nyc_trip['lpep_pickup_datetime'] = pd.to_datetime(nyc_trip.lpep_pickup_datetime)\n",
    "nyc_trip['Lpep_dropoff_datetime'] = pd.to_datetime(nyc_trip.Lpep_dropoff_datetime)# convert pickup_datetime to datetime object\n",
    "nyc_trip.loc[:, 'day_of_week'] = nyc_trip['lpep_pickup_datetime'].dt.dayofweek # extract the day of week from pickup_date"
   ]
  },
  {
   "cell_type": "code",
   "execution_count": 15,
   "metadata": {},
   "outputs": [
    {
     "data": {
      "image/png": "[encoded data removed]",
      "text/plain": [
       "<Figure size 432x288 with 1 Axes>"
      ]
     },
     "metadata": {
      "needs_background": "light"
     },
     "output_type": "display_data"
    }
   ],
   "source": [
    "## Mean Trip distance grouped by hour of day\n",
    "nyc_trip[['Trip_distance','pickup_hour']].groupby('pickup_hour').mean().plot.bar()\n",
    "plt.title('Mean Trip Distance', fontsize = 20)\n",
    "plt.xlabel('Pickup Hour', fontsize = 20)\n",
    "plt.ylabel('Trip Distance', fontsize = 20)\n",
    "plt.show()"
   ]
  },
  {
   "cell_type": "code",
   "execution_count": 16,
   "metadata": {},
   "outputs": [
    {
     "data": {
      "image/png": "[encoded data removed]",
      "text/plain": [
       "<Figure size 432x288 with 1 Axes>"
      ]
     },
     "metadata": {
      "needs_background": "light"
     },
     "output_type": "display_data"
    }
   ],
   "source": [
    "## Median Trip distance grouped by hour of day\n",
    "nyc_trip[['Trip_distance','pickup_hour']].groupby('pickup_hour').median().plot.bar()\n",
    "plt.title('Median Trip Distance', fontsize = 20)\n",
    "plt.xlabel('Pickup Hour', fontsize = 20)\n",
    "plt.ylabel('Trip Distance', fontsize = 20)\n",
    "plt.show()"
   ]
  },
  {
   "cell_type": "code",
   "execution_count": 17,
   "metadata": {},
   "outputs": [
    {
     "data": {
      "text/plain": [
       "<matplotlib.axes._subplots.AxesSubplot at 0x1b007352a58>"
      ]
     },
     "execution_count": 17,
     "metadata": {},
     "output_type": "execute_result"
    },
    {
     "data": {
      "image/png": "[encoded data removed]",
      "text/plain": [
       "<Figure size 864x576 with 1 Axes>"
      ]
     },
     "metadata": {},
     "output_type": "display_data"
    }
   ],
   "source": [
    "## Comparison of Mean and Median trip distance grouped by hour of a day\n",
    "## Mean trip distance marked by 'o' and Median trip distance marked by 'X'\n",
    "Median_nyc_trip=pd.DataFrame(nyc_trip[['Trip_distance','pickup_hour']].groupby('pickup_hour',as_index=False).median())\n",
    "Mean_nyc_trip=pd.DataFrame(nyc_trip[['Trip_distance','pickup_hour']].groupby('pickup_hour',as_index=False).mean())\n",
    "sns.set(palette=\"muted\", color_codes=True)\n",
    "plt.figure(figsize=(12,8))\n",
    "sns.lineplot(x=\"pickup_hour\", y=\"Trip_distance\", data=Mean_nyc_trip,marker='o')\n",
    "sns.lineplot(x=\"pickup_hour\", y=\"Trip_distance\", data=Median_nyc_trip,marker='X')"
   ]
  },
  {
   "cell_type": "markdown",
   "metadata": {},
   "source": [
    "#### From the above plot, it is clear that the trip distance was high during early morning(4 to 7 am) and surges throughout the day and increases again during midnight"
   ]
  },
  {
   "cell_type": "markdown",
   "metadata": {
    "colab_type": "text",
    "id": "QoM4uwW-yBaV"
   },
   "source": [
    "### b. We’d like to get a rough sense of identifying trips that originate or terminate at one of the NYC area airports. Can you provide a count of how many transactions fit this criteria, the average fare, and any other interesting characteristics of these trips.**"
   ]
  },
  {
   "cell_type": "markdown",
   "metadata": {},
   "source": [
    "#### Reading through the Data dictionary, the variable RateCodeID contains values indicating the final rate that was applied. Among those values, I realized that there is Newark(RateCodeID 3) and JFK(RateCodeID 2) which are the major airports in New York. Also,Nassau or Westchester airport has the RateCodeID as 4"
   ]
  },
  {
   "cell_type": "code",
   "execution_count": 18,
   "metadata": {},
   "outputs": [],
   "source": [
    "# Filter airport trips\n",
    "airports_trips = nyc_trip[(nyc_trip.RateCodeID==2) | (nyc_trip.RateCodeID==3) | (nyc_trip.RateCodeID==4)]"
   ]
  },
  {
   "cell_type": "code",
   "execution_count": 19,
   "metadata": {},
   "outputs": [
    {
     "name": "stdout",
     "output_type": "stream",
     "text": [
      "Number of trips to/from NYC airports:  4435\n",
      "Average fare (calculated by the meter) of trips to/from NYC airports: $ 49.021871476888386 per trip\n",
      "Average total charged amount (before tip) of trips to/from NYC airports: $ 56.53170913190322 per trip\n"
     ]
    }
   ],
   "source": [
    "print (\"Number of trips to/from NYC airports: \", airports_trips[(airports_trips.RateCodeID==2)].shape[0])\n",
    "print (\"Average fare (calculated by the meter) of trips to/from NYC airports: $\", airports_trips[(airports_trips.RateCodeID==2)].Fare_amount.mean(),\"per trip\")\n",
    "print (\"Average total charged amount (before tip) of trips to/from NYC airports: $\", airports_trips[(airports_trips.RateCodeID==2)].Total_amount.mean(),\"per trip\")"
   ]
  },
  {
   "cell_type": "code",
   "execution_count": 20,
   "metadata": {},
   "outputs": [
    {
     "name": "stdout",
     "output_type": "stream",
     "text": [
      "Number of trips to/from Newark airport:  1117\n",
      "Average fare (calculated by the meter) of trips to/from Newark airports: $ 48.79856759176365 per trip\n",
      "Average total charged amount (before tip) of trips to/from Newark airports: $ 59.89527305282089 per trip\n"
     ]
    }
   ],
   "source": [
    "print (\"Number of trips to/from Newark airport: \", airports_trips[(airports_trips.RateCodeID==3)].shape[0])\n",
    "print (\"Average fare (calculated by the meter) of trips to/from Newark airports: $\", airports_trips[(airports_trips.RateCodeID==3)].Fare_amount.mean(),\"per trip\")\n",
    "print (\"Average total charged amount (before tip) of trips to/from Newark airports: $\", airports_trips[(airports_trips.RateCodeID==3)].Total_amount.mean(),\"per trip\")"
   ]
  },
  {
   "cell_type": "code",
   "execution_count": 21,
   "metadata": {},
   "outputs": [
    {
     "name": "stdout",
     "output_type": "stream",
     "text": [
      "Number of trips to/from Nassau or Westchester airport:  925\n",
      "Average fare (calculated by the meter) of trips to/from Nassau or Westchester airports: $ 60.16488648648648 per trip\n",
      "Average total charged amount (before tip) of trips to/from Nassau or Westchester airports: $ 68.76732972973045 per trip\n"
     ]
    }
   ],
   "source": [
    "print (\"Number of trips to/from Nassau or Westchester airport: \", airports_trips[(airports_trips.RateCodeID==4)].shape[0])\n",
    "print (\"Average fare (calculated by the meter) of trips to/from Nassau or Westchester airports: $\", airports_trips[(airports_trips.RateCodeID==4)].Fare_amount.mean(),\"per trip\")\n",
    "print (\"Average total charged amount (before tip) of trips to/from Nassau or Westchester airports: $\", airports_trips[(airports_trips.RateCodeID==4)].Total_amount.mean(),\"per trip\")"
   ]
  },
  {
   "cell_type": "markdown",
   "metadata": {},
   "source": [
    "#### Alternative approach is to get the co-ordinates of each airport and find the absolute difference between Pickup and Dropoff Latitude and Longitude.Threshold of 0.01 is taken for both Latidude and Longitude"
   ]
  },
  {
   "cell_type": "code",
   "execution_count": 22,
   "metadata": {},
   "outputs": [
    {
     "name": "stdout",
     "output_type": "stream",
     "text": [
      "Number of trips to/from NYC airports:  4579\n",
      "Average fare (calculated by the meter) of trips to/from NYC airports: $ 13.229076217514745 per trip\n",
      "Average total charged amount (before tip) of trips to/from NYC airports: $ 15.734832932955678 per trip\n"
     ]
    }
   ],
   "source": [
    "##Get the Location details of JFK airport from Google\n",
    "JFK_Longitude=-73.7822222222\n",
    "JFK_Latitude=40.6441666667\n",
    "nyc_trip['Pickup_Long_Diff'] = abs(nyc_trip['Pickup_longitude']-JFK_Longitude)\n",
    "nyc_trip['Dropoff_long_Diff'] = abs(nyc_trip['Dropoff_longitude']-JFK_Longitude)\n",
    "nyc_trip['Pickup_Lat_Diff'] = abs(nyc_trip['Pickup_latitude']-JFK_Latitude)\n",
    "nyc_trip['Dropof_Lat_Diff'] = abs(nyc_trip['Dropoff_latitude']-JFK_Latitude)\n",
    "JFK_Trip=nyc_trip[((nyc_trip['Pickup_Long_Diff']<=0.01) & (nyc_trip['Pickup_Lat_Diff']<=0.01)) | ((nyc_trip['Pickup_Lat_Diff']<=0.01) & (nyc_trip['Dropof_Lat_Diff']<=0.01))].assign(Airport='JFK')\n",
    "print (\"Number of trips to/from NYC airports: \", JFK_Trip.shape[0])\n",
    "print (\"Average fare (calculated by the meter) of trips to/from NYC airports: $\", JFK_Trip.Fare_amount.mean(),\"per trip\")\n",
    "print (\"Average total charged amount (before tip) of trips to/from NYC airports: $\", JFK_Trip.Total_amount.mean(),\"per trip\")"
   ]
  },
  {
   "cell_type": "code",
   "execution_count": 23,
   "metadata": {},
   "outputs": [
    {
     "name": "stdout",
     "output_type": "stream",
     "text": [
      "Number of trips to/from LGA airports:  20767\n",
      "Average fare (calculated by the meter) of trips to/from LGA airports: $ 8.75829200173352 per trip\n",
      "Average total charged amount (before tip) of trips to/from LGA airports: $ 11.055446140508831 per trip\n"
     ]
    }
   ],
   "source": [
    "##Get the Location details of LGA airport from Google\n",
    "LGA_Longitude=-73.87396590000003\n",
    "LGA_Latitude=40.7769271\n",
    "nyc_trip['Pickup_Long_Diff'] = abs(nyc_trip['Pickup_longitude']-LGA_Longitude)\n",
    "nyc_trip['Dropoff_long_Diff'] = abs(nyc_trip['Dropoff_longitude']-LGA_Longitude)\n",
    "nyc_trip['Pickup_Lat_Diff'] = abs(nyc_trip['Pickup_latitude']-LGA_Latitude)\n",
    "nyc_trip['Dropof_Lat_Diff'] = abs(nyc_trip['Dropoff_latitude']-LGA_Latitude)\n",
    "LGA_Trip=nyc_trip[((nyc_trip['Pickup_Long_Diff']<=0.01) & (nyc_trip['Pickup_Lat_Diff']<=0.01)) | ((nyc_trip['Pickup_Lat_Diff']<=0.01) & (nyc_trip['Dropof_Lat_Diff']<=0.01))].assign(Airport='LGA')\n",
    "print (\"Number of trips to/from LGA airports: \", LGA_Trip.shape[0])\n",
    "print (\"Average fare (calculated by the meter) of trips to/from LGA airports: $\", LGA_Trip.Fare_amount.mean(),\"per trip\")\n",
    "print (\"Average total charged amount (before tip) of trips to/from LGA airports: $\", LGA_Trip.Total_amount.mean(),\"per trip\")"
   ]
  },
  {
   "cell_type": "code",
   "execution_count": 24,
   "metadata": {},
   "outputs": [
    {
     "data": {
      "image/png": "[encoded data removed]",
      "text/plain": [
       "<Figure size 864x576 with 1 Axes>"
      ]
     },
     "metadata": {},
     "output_type": "display_data"
    }
   ],
   "source": [
    "# Plot to identify the average fare across the week.\n",
    "grouped_jfk = JFK_Trip.groupby(['day_of_week', 'Airport'])['Fare_amount'].aggregate(np.mean).reset_index()\n",
    "grouped_lga = LGA_Trip.groupby(['day_of_week', 'Airport'])['Fare_amount'].aggregate(np.mean).reset_index()\n",
    "plt.figure(figsize=(12,8))\n",
    "sns.pointplot(grouped_jfk.day_of_week.values, grouped_jfk.Fare_amount.values, grouped_jfk.Airport.values, alpha=0.8,palette=sns.color_palette([\"#000000\"]))\n",
    "sns.pointplot(grouped_lga.day_of_week.values, grouped_lga.Fare_amount.values, grouped_lga.Airport.values, alpha=0.8)\n",
    "plt.ylabel('Average Fare (USD)')\n",
    "plt.xlabel('Day of Week')\n",
    "plt.xticks(rotation='horizontal')\n",
    "plt.show()"
   ]
  },
  {
   "cell_type": "code",
   "execution_count": 25,
   "metadata": {},
   "outputs": [
    {
     "data": {
      "image/png": "[encoded data removed]",
      "text/plain": [
       "<Figure size 864x576 with 1 Axes>"
      ]
     },
     "metadata": {},
     "output_type": "display_data"
    }
   ],
   "source": [
    "# Plot to identify the average fare across day.\n",
    "grouped_jfk = JFK_Trip.groupby(['pickup_hour', 'Airport'])['Fare_amount'].aggregate(np.mean).reset_index()\n",
    "grouped_lga = LGA_Trip.groupby(['pickup_hour', 'Airport'])['Fare_amount'].aggregate(np.mean).reset_index()\n",
    "plt.figure(figsize=(12,8))\n",
    "sns.pointplot(grouped_jfk.pickup_hour.values, grouped_jfk.Fare_amount.values, grouped_jfk.Airport.values, alpha=0.8,palette=sns.color_palette([\"#000000\"]))\n",
    "sns.pointplot(grouped_lga.pickup_hour.values, grouped_lga.Fare_amount.values, grouped_lga.Airport.values, alpha=0.8)\n",
    "plt.ylabel('Average Fare (USD)')\n",
    "plt.xlabel('Pickup hour of the day')\n",
    "plt.xticks(rotation='horizontal')\n",
    "plt.show()\n"
   ]
  },
  {
   "cell_type": "markdown",
   "metadata": {},
   "source": [
    "#### Its clear from the above pointplots that the trips to/from JFK have almost 2x the average fare of that of LGA. Also, on day 0, that is Sunday the average fare is higher than all the weekdays. It looks like the average fare surged in the afternoon, and plummeted by a huge margin later in the day.\n",
    "#### For both JFK and LGA airport,Early morning rides costs more than other hours of the day.Seems like people are rushing to office in early morning"
   ]
  },
  {
   "cell_type": "markdown",
   "metadata": {
    "colab_type": "text",
    "id": "zzEF3zq4yKWK"
   },
   "source": [
    "## Question 4\n",
    "### a. Build a derived variable for tip as a percentage of the total fare."
   ]
  },
  {
   "cell_type": "code",
   "execution_count": 26,
   "metadata": {
    "colab": {},
    "colab_type": "code",
    "id": "JcfT_JGNyJU_"
   },
   "outputs": [
    {
     "data": {
      "text/plain": [
       "0    20.00000\n",
       "1     0.00000\n",
       "2     8.62069\n",
       "3     0.00000\n",
       "4     0.00000\n",
       "Name: tip_percent, dtype: float64"
      ]
     },
     "execution_count": 26,
     "metadata": {},
     "output_type": "execute_result"
    }
   ],
   "source": [
    "nyc_trip['tip_percent'] = nyc_trip['Tip_amount']/nyc_trip['Total_amount'] # calculate tip percentage \n",
    "nyc_trip['tip_percent'] = nyc_trip['tip_percent'].apply(lambda x: x * 100) # multiply by 100 to get the %\n",
    "nyc_trip['tip_percent'].head()"
   ]
  },
  {
   "cell_type": "code",
   "execution_count": 27,
   "metadata": {},
   "outputs": [
    {
     "name": "stderr",
     "output_type": "stream",
     "text": [
      "C:\\Users\\haris\\Anaconda3\\lib\\site-packages\\scipy\\stats\\stats.py:1713: FutureWarning: Using a non-tuple sequence for multidimensional indexing is deprecated; use `arr[tuple(seq)]` instead of `arr[seq]`. In the future this will be interpreted as an array index, `arr[np.array(seq)]`, which will result either in an error or a different result.\n",
      "  return np.add.reduce(sorted[indexer] * weights, axis=axis) / sumval\n"
     ]
    },
    {
     "data": {
      "image/png": "[encoded data removed]",
      "text/plain": [
       "<Figure size 864x576 with 1 Axes>"
      ]
     },
     "metadata": {},
     "output_type": "display_data"
    }
   ],
   "source": [
    "plt.figure(figsize=(12,8))\n",
    "ax = sns.pointplot(x=\"pickup_hour\", y=\"tip_percent\", data=nyc_trip)\n",
    "plt.ylabel('Average Tip (% of the fare amount)')\n",
    "plt.xlabel('Pick up hour')\n",
    "plt.xticks(rotation='vertical')\n",
    "plt.show()"
   ]
  },
  {
   "cell_type": "markdown",
   "metadata": {
    "colab_type": "text",
    "id": "WvkjCpOxygfT"
   },
   "source": [
    "#### b.Build a predictive model for tip as a percentage of the total fare. Use as much of the data as you like (or all of it). Provide an estimate of performance using an appropriate sample, and show your work."
   ]
  },
  {
   "cell_type": "code",
   "execution_count": 28,
   "metadata": {},
   "outputs": [
    {
     "name": "stdout",
     "output_type": "stream",
     "text": [
      "Requirement already satisfied: lightgbm in c:\\users\\haris\\anaconda3\\lib\\site-packages (2.2.3)\n",
      "Requirement already satisfied: scipy in c:\\users\\haris\\anaconda3\\lib\\site-packages (from lightgbm) (1.1.0)\n",
      "Requirement already satisfied: numpy in c:\\users\\haris\\anaconda3\\lib\\site-packages (from lightgbm) (1.15.4)\n",
      "Requirement already satisfied: scikit-learn in c:\\users\\haris\\anaconda3\\lib\\site-packages (from lightgbm) (0.20.1)\n",
      "Requirement already satisfied: xgboost in c:\\users\\haris\\anaconda3\\lib\\site-packages (0.81)\n",
      "Requirement already satisfied: scipy in c:\\users\\haris\\anaconda3\\lib\\site-packages (from xgboost) (1.1.0)\n",
      "Requirement already satisfied: numpy in c:\\users\\haris\\anaconda3\\lib\\site-packages (from xgboost) (1.15.4)\n"
     ]
    }
   ],
   "source": [
    "## Install and Import Lightgbm,XGBoost\n",
    "! pip install lightgbm\n",
    "! pip install xgboost\n",
    "import xgboost as xgb # please install xgboost before running this script.\n",
    "import lightgbm as lgb # please install lightgbm before running this script."
   ]
  },
  {
   "cell_type": "code",
   "execution_count": 29,
   "metadata": {},
   "outputs": [
    {
     "data": {
      "text/html": [
       "<div>\n",
       "<style scoped>\n",
       "    .dataframe tbody tr th:only-of-type {\n",
       "        vertical-align: middle;\n",
       "    }\n",
       "\n",
       "    .dataframe tbody tr th {\n",
       "        vertical-align: top;\n",
       "    }\n",
       "\n",
       "    .dataframe thead th {\n",
       "        text-align: right;\n",
       "    }\n",
       "</style>\n",
       "<table border=\"1\" class=\"dataframe\">\n",
       "  <thead>\n",
       "    <tr style=\"text-align: right;\">\n",
       "      <th></th>\n",
       "      <th>index</th>\n",
       "      <th>VendorID</th>\n",
       "      <th>lpep_pickup_datetime</th>\n",
       "      <th>Lpep_dropoff_datetime</th>\n",
       "      <th>Store_and_fwd_flag</th>\n",
       "      <th>RateCodeID</th>\n",
       "      <th>Pickup_longitude</th>\n",
       "      <th>Pickup_latitude</th>\n",
       "      <th>Dropoff_longitude</th>\n",
       "      <th>Dropoff_latitude</th>\n",
       "      <th>...</th>\n",
       "      <th>pickup</th>\n",
       "      <th>pickup_hour</th>\n",
       "      <th>dropoff</th>\n",
       "      <th>dropoff_hour</th>\n",
       "      <th>day_of_week</th>\n",
       "      <th>Pickup_Long_Diff</th>\n",
       "      <th>Dropoff_long_Diff</th>\n",
       "      <th>Pickup_Lat_Diff</th>\n",
       "      <th>Dropof_Lat_Diff</th>\n",
       "      <th>tip_percent</th>\n",
       "    </tr>\n",
       "  </thead>\n",
       "  <tbody>\n",
       "    <tr>\n",
       "      <th>0</th>\n",
       "      <td>0</td>\n",
       "      <td>2</td>\n",
       "      <td>2015-09-01 00:02:34</td>\n",
       "      <td>2015-09-01 00:02:38</td>\n",
       "      <td>N</td>\n",
       "      <td>5</td>\n",
       "      <td>-73.979485</td>\n",
       "      <td>40.684956</td>\n",
       "      <td>-73.979431</td>\n",
       "      <td>40.685020</td>\n",
       "      <td>...</td>\n",
       "      <td>2015-09-01 00:02:34</td>\n",
       "      <td>0</td>\n",
       "      <td>2015-09-01 00:02:38</td>\n",
       "      <td>0</td>\n",
       "      <td>1</td>\n",
       "      <td>0.105519</td>\n",
       "      <td>0.105465</td>\n",
       "      <td>0.091972</td>\n",
       "      <td>0.091907</td>\n",
       "      <td>20.00000</td>\n",
       "    </tr>\n",
       "    <tr>\n",
       "      <th>1</th>\n",
       "      <td>1</td>\n",
       "      <td>2</td>\n",
       "      <td>2015-09-01 00:04:20</td>\n",
       "      <td>2015-09-01 00:04:24</td>\n",
       "      <td>N</td>\n",
       "      <td>5</td>\n",
       "      <td>-74.010796</td>\n",
       "      <td>40.912216</td>\n",
       "      <td>-74.010780</td>\n",
       "      <td>40.912212</td>\n",
       "      <td>...</td>\n",
       "      <td>2015-09-01 00:04:20</td>\n",
       "      <td>0</td>\n",
       "      <td>2015-09-01 00:04:24</td>\n",
       "      <td>0</td>\n",
       "      <td>1</td>\n",
       "      <td>0.136830</td>\n",
       "      <td>0.136814</td>\n",
       "      <td>0.135289</td>\n",
       "      <td>0.135285</td>\n",
       "      <td>0.00000</td>\n",
       "    </tr>\n",
       "    <tr>\n",
       "      <th>2</th>\n",
       "      <td>2</td>\n",
       "      <td>2</td>\n",
       "      <td>2015-09-01 00:01:50</td>\n",
       "      <td>2015-09-01 00:04:24</td>\n",
       "      <td>N</td>\n",
       "      <td>1</td>\n",
       "      <td>-73.921410</td>\n",
       "      <td>40.766708</td>\n",
       "      <td>-73.914413</td>\n",
       "      <td>40.764687</td>\n",
       "      <td>...</td>\n",
       "      <td>2015-09-01 00:01:50</td>\n",
       "      <td>0</td>\n",
       "      <td>2015-09-01 00:04:24</td>\n",
       "      <td>0</td>\n",
       "      <td>1</td>\n",
       "      <td>0.047444</td>\n",
       "      <td>0.040448</td>\n",
       "      <td>0.010219</td>\n",
       "      <td>0.012241</td>\n",
       "      <td>8.62069</td>\n",
       "    </tr>\n",
       "    <tr>\n",
       "      <th>3</th>\n",
       "      <td>3</td>\n",
       "      <td>2</td>\n",
       "      <td>2015-09-01 00:02:36</td>\n",
       "      <td>2015-09-01 00:06:42</td>\n",
       "      <td>N</td>\n",
       "      <td>1</td>\n",
       "      <td>-73.921387</td>\n",
       "      <td>40.766678</td>\n",
       "      <td>-73.931427</td>\n",
       "      <td>40.771584</td>\n",
       "      <td>...</td>\n",
       "      <td>2015-09-01 00:02:36</td>\n",
       "      <td>0</td>\n",
       "      <td>2015-09-01 00:06:42</td>\n",
       "      <td>0</td>\n",
       "      <td>1</td>\n",
       "      <td>0.047421</td>\n",
       "      <td>0.057461</td>\n",
       "      <td>0.010249</td>\n",
       "      <td>0.005344</td>\n",
       "      <td>0.00000</td>\n",
       "    </tr>\n",
       "    <tr>\n",
       "      <th>4</th>\n",
       "      <td>4</td>\n",
       "      <td>2</td>\n",
       "      <td>2015-09-01 00:00:14</td>\n",
       "      <td>2015-09-01 00:04:20</td>\n",
       "      <td>N</td>\n",
       "      <td>1</td>\n",
       "      <td>-73.955482</td>\n",
       "      <td>40.714046</td>\n",
       "      <td>-73.944412</td>\n",
       "      <td>40.714729</td>\n",
       "      <td>...</td>\n",
       "      <td>2015-09-01 00:00:14</td>\n",
       "      <td>0</td>\n",
       "      <td>2015-09-01 00:04:20</td>\n",
       "      <td>0</td>\n",
       "      <td>1</td>\n",
       "      <td>0.081517</td>\n",
       "      <td>0.070446</td>\n",
       "      <td>0.062881</td>\n",
       "      <td>0.062198</td>\n",
       "      <td>0.00000</td>\n",
       "    </tr>\n",
       "  </tbody>\n",
       "</table>\n",
       "<p>5 rows × 32 columns</p>\n",
       "</div>"
      ],
      "text/plain": [
       "   index  VendorID lpep_pickup_datetime Lpep_dropoff_datetime  \\\n",
       "0      0         2  2015-09-01 00:02:34   2015-09-01 00:02:38   \n",
       "1      1         2  2015-09-01 00:04:20   2015-09-01 00:04:24   \n",
       "2      2         2  2015-09-01 00:01:50   2015-09-01 00:04:24   \n",
       "3      3         2  2015-09-01 00:02:36   2015-09-01 00:06:42   \n",
       "4      4         2  2015-09-01 00:00:14   2015-09-01 00:04:20   \n",
       "\n",
       "  Store_and_fwd_flag  RateCodeID  Pickup_longitude  Pickup_latitude  \\\n",
       "0                  N           5        -73.979485        40.684956   \n",
       "1                  N           5        -74.010796        40.912216   \n",
       "2                  N           1        -73.921410        40.766708   \n",
       "3                  N           1        -73.921387        40.766678   \n",
       "4                  N           1        -73.955482        40.714046   \n",
       "\n",
       "   Dropoff_longitude  Dropoff_latitude     ...                   pickup  \\\n",
       "0         -73.979431         40.685020     ...      2015-09-01 00:02:34   \n",
       "1         -74.010780         40.912212     ...      2015-09-01 00:04:20   \n",
       "2         -73.914413         40.764687     ...      2015-09-01 00:01:50   \n",
       "3         -73.931427         40.771584     ...      2015-09-01 00:02:36   \n",
       "4         -73.944412         40.714729     ...      2015-09-01 00:00:14   \n",
       "\n",
       "   pickup_hour             dropoff  dropoff_hour  day_of_week  \\\n",
       "0            0 2015-09-01 00:02:38             0            1   \n",
       "1            0 2015-09-01 00:04:24             0            1   \n",
       "2            0 2015-09-01 00:04:24             0            1   \n",
       "3            0 2015-09-01 00:06:42             0            1   \n",
       "4            0 2015-09-01 00:04:20             0            1   \n",
       "\n",
       "   Pickup_Long_Diff  Dropoff_long_Diff  Pickup_Lat_Diff  Dropof_Lat_Diff  \\\n",
       "0          0.105519           0.105465         0.091972         0.091907   \n",
       "1          0.136830           0.136814         0.135289         0.135285   \n",
       "2          0.047444           0.040448         0.010219         0.012241   \n",
       "3          0.047421           0.057461         0.010249         0.005344   \n",
       "4          0.081517           0.070446         0.062881         0.062198   \n",
       "\n",
       "   tip_percent  \n",
       "0     20.00000  \n",
       "1      0.00000  \n",
       "2      8.62069  \n",
       "3      0.00000  \n",
       "4      0.00000  \n",
       "\n",
       "[5 rows x 32 columns]"
      ]
     },
     "execution_count": 29,
     "metadata": {},
     "output_type": "execute_result"
    }
   ],
   "source": [
    "# load the data into a new pandas dataframe.\n",
    "nyc_model =nyc_trip\n",
    "nyc_model = nyc_model.reset_index() # reset the index of our dataframe. \n",
    "nyc_model.head()"
   ]
  },
  {
   "cell_type": "code",
   "execution_count": 30,
   "metadata": {
    "scrolled": true
   },
   "outputs": [
    {
     "data": {
      "text/plain": [
       "(602732, 32)"
      ]
     },
     "execution_count": 30,
     "metadata": {},
     "output_type": "execute_result"
    }
   ],
   "source": [
    "## Based on data dictionary,it is clear that the field is automatically populated for credit card tips.Cash tips are not included.\n",
    "## Exclude the cash payment type and also any tip amount less than 0\n",
    "nyc_model['tip_percent'] = nyc_model['Tip_amount']/nyc_model['Total_amount'] # calculate the tip percent\n",
    "nyc_model['tip_percent'] = nyc_model['tip_percent'].apply(lambda x: x * 100) # multiply the value by 100\n",
    "nyc_model = nyc_model[nyc_model['Tip_amount'] > 0] # make sure the tip is greater than zero\n",
    "nyc_model.shape"
   ]
  },
  {
   "cell_type": "code",
   "execution_count": 31,
   "metadata": {},
   "outputs": [
    {
     "data": {
      "text/plain": [
       "(602730, 32)"
      ]
     },
     "execution_count": 31,
     "metadata": {},
     "output_type": "execute_result"
    }
   ],
   "source": [
    "##Excluded the cash payment type\n",
    "nyc_model=nyc_model[nyc_model['Payment_type'] !=2]\n",
    "nyc_model.shape"
   ]
  },
  {
   "cell_type": "code",
   "execution_count": 32,
   "metadata": {},
   "outputs": [
    {
     "data": {
      "text/html": [
       "<div>\n",
       "<style scoped>\n",
       "    .dataframe tbody tr th:only-of-type {\n",
       "        vertical-align: middle;\n",
       "    }\n",
       "\n",
       "    .dataframe tbody tr th {\n",
       "        vertical-align: top;\n",
       "    }\n",
       "\n",
       "    .dataframe thead th {\n",
       "        text-align: right;\n",
       "    }\n",
       "</style>\n",
       "<table border=\"1\" class=\"dataframe\">\n",
       "  <thead>\n",
       "    <tr style=\"text-align: right;\">\n",
       "      <th></th>\n",
       "      <th>index</th>\n",
       "      <th>VendorID</th>\n",
       "      <th>lpep_pickup_datetime</th>\n",
       "      <th>Lpep_dropoff_datetime</th>\n",
       "      <th>Store_and_fwd_flag</th>\n",
       "      <th>RateCodeID</th>\n",
       "      <th>Pickup_longitude</th>\n",
       "      <th>Pickup_latitude</th>\n",
       "      <th>Dropoff_longitude</th>\n",
       "      <th>Dropoff_latitude</th>\n",
       "      <th>...</th>\n",
       "      <th>dropoff_hour</th>\n",
       "      <th>day_of_week</th>\n",
       "      <th>Pickup_Long_Diff</th>\n",
       "      <th>Dropoff_long_Diff</th>\n",
       "      <th>Pickup_Lat_Diff</th>\n",
       "      <th>Dropof_Lat_Diff</th>\n",
       "      <th>tip_percent</th>\n",
       "      <th>pickup_day</th>\n",
       "      <th>pickup_month</th>\n",
       "      <th>week_of_year</th>\n",
       "    </tr>\n",
       "  </thead>\n",
       "  <tbody>\n",
       "    <tr>\n",
       "      <th>0</th>\n",
       "      <td>0</td>\n",
       "      <td>2</td>\n",
       "      <td>2015-09-01 00:02:34</td>\n",
       "      <td>2015-09-01 00:02:38</td>\n",
       "      <td>0</td>\n",
       "      <td>5</td>\n",
       "      <td>-73.979485</td>\n",
       "      <td>40.684956</td>\n",
       "      <td>-73.979431</td>\n",
       "      <td>40.685020</td>\n",
       "      <td>...</td>\n",
       "      <td>0</td>\n",
       "      <td>1</td>\n",
       "      <td>0.105519</td>\n",
       "      <td>0.105465</td>\n",
       "      <td>0.091972</td>\n",
       "      <td>0.091907</td>\n",
       "      <td>20.000000</td>\n",
       "      <td>1</td>\n",
       "      <td>9</td>\n",
       "      <td>36</td>\n",
       "    </tr>\n",
       "    <tr>\n",
       "      <th>2</th>\n",
       "      <td>2</td>\n",
       "      <td>2</td>\n",
       "      <td>2015-09-01 00:01:50</td>\n",
       "      <td>2015-09-01 00:04:24</td>\n",
       "      <td>0</td>\n",
       "      <td>1</td>\n",
       "      <td>-73.921410</td>\n",
       "      <td>40.766708</td>\n",
       "      <td>-73.914413</td>\n",
       "      <td>40.764687</td>\n",
       "      <td>...</td>\n",
       "      <td>0</td>\n",
       "      <td>1</td>\n",
       "      <td>0.047444</td>\n",
       "      <td>0.040448</td>\n",
       "      <td>0.010219</td>\n",
       "      <td>0.012241</td>\n",
       "      <td>8.620690</td>\n",
       "      <td>1</td>\n",
       "      <td>9</td>\n",
       "      <td>36</td>\n",
       "    </tr>\n",
       "    <tr>\n",
       "      <th>5</th>\n",
       "      <td>5</td>\n",
       "      <td>2</td>\n",
       "      <td>2015-09-01 00:00:39</td>\n",
       "      <td>2015-09-01 00:05:20</td>\n",
       "      <td>0</td>\n",
       "      <td>1</td>\n",
       "      <td>-73.945297</td>\n",
       "      <td>40.808186</td>\n",
       "      <td>-73.937668</td>\n",
       "      <td>40.821198</td>\n",
       "      <td>...</td>\n",
       "      <td>0</td>\n",
       "      <td>1</td>\n",
       "      <td>0.071331</td>\n",
       "      <td>0.063702</td>\n",
       "      <td>0.031258</td>\n",
       "      <td>0.044270</td>\n",
       "      <td>16.666667</td>\n",
       "      <td>1</td>\n",
       "      <td>9</td>\n",
       "      <td>36</td>\n",
       "    </tr>\n",
       "    <tr>\n",
       "      <th>8</th>\n",
       "      <td>8</td>\n",
       "      <td>2</td>\n",
       "      <td>2015-09-01 00:02:36</td>\n",
       "      <td>2015-09-01 00:07:20</td>\n",
       "      <td>0</td>\n",
       "      <td>1</td>\n",
       "      <td>-73.963150</td>\n",
       "      <td>40.693829</td>\n",
       "      <td>-73.956787</td>\n",
       "      <td>40.680531</td>\n",
       "      <td>...</td>\n",
       "      <td>0</td>\n",
       "      <td>1</td>\n",
       "      <td>0.089184</td>\n",
       "      <td>0.082821</td>\n",
       "      <td>0.083099</td>\n",
       "      <td>0.096397</td>\n",
       "      <td>16.666667</td>\n",
       "      <td>1</td>\n",
       "      <td>9</td>\n",
       "      <td>36</td>\n",
       "    </tr>\n",
       "    <tr>\n",
       "      <th>11</th>\n",
       "      <td>11</td>\n",
       "      <td>2</td>\n",
       "      <td>2015-09-01 00:04:00</td>\n",
       "      <td>2015-09-01 00:06:06</td>\n",
       "      <td>0</td>\n",
       "      <td>1</td>\n",
       "      <td>-73.905540</td>\n",
       "      <td>40.772526</td>\n",
       "      <td>-73.895363</td>\n",
       "      <td>40.768963</td>\n",
       "      <td>...</td>\n",
       "      <td>0</td>\n",
       "      <td>1</td>\n",
       "      <td>0.031575</td>\n",
       "      <td>0.021397</td>\n",
       "      <td>0.004401</td>\n",
       "      <td>0.007964</td>\n",
       "      <td>16.666667</td>\n",
       "      <td>1</td>\n",
       "      <td>9</td>\n",
       "      <td>36</td>\n",
       "    </tr>\n",
       "  </tbody>\n",
       "</table>\n",
       "<p>5 rows × 35 columns</p>\n",
       "</div>"
      ],
      "text/plain": [
       "    index  VendorID lpep_pickup_datetime Lpep_dropoff_datetime  \\\n",
       "0       0         2  2015-09-01 00:02:34   2015-09-01 00:02:38   \n",
       "2       2         2  2015-09-01 00:01:50   2015-09-01 00:04:24   \n",
       "5       5         2  2015-09-01 00:00:39   2015-09-01 00:05:20   \n",
       "8       8         2  2015-09-01 00:02:36   2015-09-01 00:07:20   \n",
       "11     11         2  2015-09-01 00:04:00   2015-09-01 00:06:06   \n",
       "\n",
       "    Store_and_fwd_flag  RateCodeID  Pickup_longitude  Pickup_latitude  \\\n",
       "0                    0           5        -73.979485        40.684956   \n",
       "2                    0           1        -73.921410        40.766708   \n",
       "5                    0           1        -73.945297        40.808186   \n",
       "8                    0           1        -73.963150        40.693829   \n",
       "11                   0           1        -73.905540        40.772526   \n",
       "\n",
       "    Dropoff_longitude  Dropoff_latitude      ...       dropoff_hour  \\\n",
       "0          -73.979431         40.685020      ...                  0   \n",
       "2          -73.914413         40.764687      ...                  0   \n",
       "5          -73.937668         40.821198      ...                  0   \n",
       "8          -73.956787         40.680531      ...                  0   \n",
       "11         -73.895363         40.768963      ...                  0   \n",
       "\n",
       "    day_of_week  Pickup_Long_Diff  Dropoff_long_Diff  Pickup_Lat_Diff  \\\n",
       "0             1          0.105519           0.105465         0.091972   \n",
       "2             1          0.047444           0.040448         0.010219   \n",
       "5             1          0.071331           0.063702         0.031258   \n",
       "8             1          0.089184           0.082821         0.083099   \n",
       "11            1          0.031575           0.021397         0.004401   \n",
       "\n",
       "    Dropof_Lat_Diff  tip_percent  pickup_day  pickup_month  week_of_year  \n",
       "0          0.091907    20.000000           1             9            36  \n",
       "2          0.012241     8.620690           1             9            36  \n",
       "5          0.044270    16.666667           1             9            36  \n",
       "8          0.096397    16.666667           1             9            36  \n",
       "11         0.007964    16.666667           1             9            36  \n",
       "\n",
       "[5 rows x 35 columns]"
      ]
     },
     "execution_count": 32,
     "metadata": {},
     "output_type": "execute_result"
    }
   ],
   "source": [
    "nyc_model['pickup_day'] = nyc_model['lpep_pickup_datetime'].dt.day\n",
    "nyc_model['pickup_month'] = nyc_model['lpep_pickup_datetime'].dt.month\n",
    "nyc_model['pickup_hour'] = nyc_model['lpep_pickup_datetime'].dt.hour\n",
    "nyc_model[\"week_of_year\"] = nyc_model[\"lpep_pickup_datetime\"].dt.weekofyear\n",
    "nyc_model[\"day_of_week\"] = nyc_model[\"lpep_pickup_datetime\"].dt.weekday\n",
    "# Convert to numeric \n",
    "map_dict = {'N':0, 'Y':1}\n",
    "nyc_model['Store_and_fwd_flag'] = nyc_model['Store_and_fwd_flag'].map(map_dict)\n",
    "nyc_model.head()"
   ]
  },
  {
   "cell_type": "code",
   "execution_count": 33,
   "metadata": {},
   "outputs": [
    {
     "data": {
      "text/plain": [
       "Index(['index', 'VendorID', 'lpep_pickup_datetime', 'Lpep_dropoff_datetime',\n",
       "       'Store_and_fwd_flag', 'RateCodeID', 'Pickup_longitude',\n",
       "       'Pickup_latitude', 'Dropoff_longitude', 'Dropoff_latitude',\n",
       "       'Passenger_count', 'Trip_distance', 'Fare_amount', 'Extra', 'MTA_tax',\n",
       "       'Tip_amount', 'Tolls_amount', 'Ehail_fee', 'improvement_surcharge',\n",
       "       'Total_amount', 'Payment_type', 'Trip_type ', 'pickup', 'pickup_hour',\n",
       "       'dropoff', 'dropoff_hour', 'day_of_week', 'Pickup_Long_Diff',\n",
       "       'Dropoff_long_Diff', 'Pickup_Lat_Diff', 'Dropof_Lat_Diff',\n",
       "       'tip_percent', 'pickup_day', 'pickup_month', 'week_of_year'],\n",
       "      dtype='object')"
      ]
     },
     "execution_count": 33,
     "metadata": {},
     "output_type": "execute_result"
    }
   ],
   "source": [
    "nyc_model.columns"
   ]
  },
  {
   "cell_type": "code",
   "execution_count": 34,
   "metadata": {},
   "outputs": [
    {
     "data": {
      "text/plain": [
       "False"
      ]
     },
     "execution_count": 34,
     "metadata": {},
     "output_type": "execute_result"
    }
   ],
   "source": [
    "##Drop unwanted columns and Check for any null values in the dataframe\n",
    "nyc_model.drop(['lpep_pickup_datetime', 'Lpep_dropoff_datetime', 'Ehail_fee','pickup', \n",
    "       'dropoff', 'dropoff_hour',  'Pickup_Long_Diff',\n",
    "       'Dropoff_long_Diff', 'Pickup_Lat_Diff', 'Dropof_Lat_Diff'], axis=1, inplace=True)\n",
    "nyc_model.isnull().values.any()"
   ]
  },
  {
   "cell_type": "code",
   "execution_count": 35,
   "metadata": {},
   "outputs": [
    {
     "data": {
      "image/png": "[encoded data removed]",
      "text/plain": [
       "<Figure size 1080x1080 with 2 Axes>"
      ]
     },
     "metadata": {},
     "output_type": "display_data"
    }
   ],
   "source": [
    "##Correlation Analysis using Heatmap\n",
    "corr=nyc_model.corr()\n",
    "f, ax = plt.subplots(figsize=(15, 15))\n",
    "cmap = sns.diverging_palette(220, 10, as_cmap=True)\n",
    "sns.heatmap(corr,  cmap=cmap, vmax=.3, center=0,\n",
    "            square=True, linewidths=.5, cbar_kws={\"shrink\": .5})\n",
    "plt.show()"
   ]
  },
  {
   "cell_type": "markdown",
   "metadata": {},
   "source": [
    "#### Variables like total_amount, tolls_amount, trip_type etc are of very high importance and are all related to other variables.\n",
    "\n",
    "#### Variables like payment_type, trip_distance, pickup_longitude etc are of very less importance and are not at all related to other variables.\n",
    "\n",
    "#### Total_amount is very important => correlation is as high as 0.8\n",
    "\n",
    "#### Strong correlation is observed between different IDVs but we will be using tree based model so no need to remove those variables which are highly correlated. (though try removing for Robustness of model) - Tip_percent is slight correated with many IDVs."
   ]
  },
  {
   "cell_type": "markdown",
   "metadata": {},
   "source": [
    "### Train-Test Split"
   ]
  },
  {
   "cell_type": "code",
   "execution_count": 36,
   "metadata": {},
   "outputs": [
    {
     "data": {
      "text/html": [
       "<div>\n",
       "<style scoped>\n",
       "    .dataframe tbody tr th:only-of-type {\n",
       "        vertical-align: middle;\n",
       "    }\n",
       "\n",
       "    .dataframe tbody tr th {\n",
       "        vertical-align: top;\n",
       "    }\n",
       "\n",
       "    .dataframe thead th {\n",
       "        text-align: right;\n",
       "    }\n",
       "</style>\n",
       "<table border=\"1\" class=\"dataframe\">\n",
       "  <thead>\n",
       "    <tr style=\"text-align: right;\">\n",
       "      <th></th>\n",
       "      <th>index</th>\n",
       "      <th>VendorID</th>\n",
       "      <th>Store_and_fwd_flag</th>\n",
       "      <th>RateCodeID</th>\n",
       "      <th>Pickup_longitude</th>\n",
       "      <th>Pickup_latitude</th>\n",
       "      <th>Dropoff_longitude</th>\n",
       "      <th>Dropoff_latitude</th>\n",
       "      <th>Passenger_count</th>\n",
       "      <th>Trip_distance</th>\n",
       "      <th>...</th>\n",
       "      <th>improvement_surcharge</th>\n",
       "      <th>Total_amount</th>\n",
       "      <th>Payment_type</th>\n",
       "      <th>Trip_type</th>\n",
       "      <th>pickup_hour</th>\n",
       "      <th>day_of_week</th>\n",
       "      <th>tip_percent</th>\n",
       "      <th>pickup_day</th>\n",
       "      <th>pickup_month</th>\n",
       "      <th>week_of_year</th>\n",
       "    </tr>\n",
       "  </thead>\n",
       "  <tbody>\n",
       "    <tr>\n",
       "      <th>1034390</th>\n",
       "      <td>1034390</td>\n",
       "      <td>2</td>\n",
       "      <td>0</td>\n",
       "      <td>1</td>\n",
       "      <td>-73.954140</td>\n",
       "      <td>40.790112</td>\n",
       "      <td>-73.954781</td>\n",
       "      <td>40.783741</td>\n",
       "      <td>5</td>\n",
       "      <td>0.57</td>\n",
       "      <td>...</td>\n",
       "      <td>0.3</td>\n",
       "      <td>6.36</td>\n",
       "      <td>1</td>\n",
       "      <td>1.0</td>\n",
       "      <td>9</td>\n",
       "      <td>0</td>\n",
       "      <td>16.666667</td>\n",
       "      <td>21</td>\n",
       "      <td>9</td>\n",
       "      <td>39</td>\n",
       "    </tr>\n",
       "    <tr>\n",
       "      <th>49099</th>\n",
       "      <td>49099</td>\n",
       "      <td>2</td>\n",
       "      <td>0</td>\n",
       "      <td>1</td>\n",
       "      <td>-73.920670</td>\n",
       "      <td>40.756901</td>\n",
       "      <td>-73.896423</td>\n",
       "      <td>40.772861</td>\n",
       "      <td>1</td>\n",
       "      <td>2.03</td>\n",
       "      <td>...</td>\n",
       "      <td>0.3</td>\n",
       "      <td>12.96</td>\n",
       "      <td>1</td>\n",
       "      <td>1.0</td>\n",
       "      <td>8</td>\n",
       "      <td>2</td>\n",
       "      <td>16.666667</td>\n",
       "      <td>2</td>\n",
       "      <td>9</td>\n",
       "      <td>36</td>\n",
       "    </tr>\n",
       "    <tr>\n",
       "      <th>337325</th>\n",
       "      <td>337325</td>\n",
       "      <td>2</td>\n",
       "      <td>0</td>\n",
       "      <td>1</td>\n",
       "      <td>-73.924828</td>\n",
       "      <td>40.684662</td>\n",
       "      <td>-73.924843</td>\n",
       "      <td>40.684685</td>\n",
       "      <td>1</td>\n",
       "      <td>0.00</td>\n",
       "      <td>...</td>\n",
       "      <td>0.3</td>\n",
       "      <td>38.80</td>\n",
       "      <td>1</td>\n",
       "      <td>1.0</td>\n",
       "      <td>22</td>\n",
       "      <td>0</td>\n",
       "      <td>90.206186</td>\n",
       "      <td>7</td>\n",
       "      <td>9</td>\n",
       "      <td>37</td>\n",
       "    </tr>\n",
       "    <tr>\n",
       "      <th>1066418</th>\n",
       "      <td>1066418</td>\n",
       "      <td>2</td>\n",
       "      <td>0</td>\n",
       "      <td>1</td>\n",
       "      <td>-73.956993</td>\n",
       "      <td>40.801777</td>\n",
       "      <td>-73.942192</td>\n",
       "      <td>40.809750</td>\n",
       "      <td>1</td>\n",
       "      <td>1.94</td>\n",
       "      <td>...</td>\n",
       "      <td>0.3</td>\n",
       "      <td>12.36</td>\n",
       "      <td>1</td>\n",
       "      <td>1.0</td>\n",
       "      <td>0</td>\n",
       "      <td>1</td>\n",
       "      <td>16.666667</td>\n",
       "      <td>22</td>\n",
       "      <td>9</td>\n",
       "      <td>39</td>\n",
       "    </tr>\n",
       "    <tr>\n",
       "      <th>244990</th>\n",
       "      <td>244990</td>\n",
       "      <td>2</td>\n",
       "      <td>0</td>\n",
       "      <td>1</td>\n",
       "      <td>-73.965866</td>\n",
       "      <td>40.712650</td>\n",
       "      <td>-73.959412</td>\n",
       "      <td>40.661861</td>\n",
       "      <td>1</td>\n",
       "      <td>4.24</td>\n",
       "      <td>...</td>\n",
       "      <td>0.3</td>\n",
       "      <td>20.76</td>\n",
       "      <td>1</td>\n",
       "      <td>1.0</td>\n",
       "      <td>23</td>\n",
       "      <td>5</td>\n",
       "      <td>16.666667</td>\n",
       "      <td>5</td>\n",
       "      <td>9</td>\n",
       "      <td>36</td>\n",
       "    </tr>\n",
       "  </tbody>\n",
       "</table>\n",
       "<p>5 rows × 25 columns</p>\n",
       "</div>"
      ],
      "text/plain": [
       "           index  VendorID  Store_and_fwd_flag  RateCodeID  Pickup_longitude  \\\n",
       "1034390  1034390         2                   0           1        -73.954140   \n",
       "49099      49099         2                   0           1        -73.920670   \n",
       "337325    337325         2                   0           1        -73.924828   \n",
       "1066418  1066418         2                   0           1        -73.956993   \n",
       "244990    244990         2                   0           1        -73.965866   \n",
       "\n",
       "         Pickup_latitude  Dropoff_longitude  Dropoff_latitude  \\\n",
       "1034390        40.790112         -73.954781         40.783741   \n",
       "49099          40.756901         -73.896423         40.772861   \n",
       "337325         40.684662         -73.924843         40.684685   \n",
       "1066418        40.801777         -73.942192         40.809750   \n",
       "244990         40.712650         -73.959412         40.661861   \n",
       "\n",
       "         Passenger_count  Trip_distance      ...       improvement_surcharge  \\\n",
       "1034390                5           0.57      ...                         0.3   \n",
       "49099                  1           2.03      ...                         0.3   \n",
       "337325                 1           0.00      ...                         0.3   \n",
       "1066418                1           1.94      ...                         0.3   \n",
       "244990                 1           4.24      ...                         0.3   \n",
       "\n",
       "         Total_amount  Payment_type  Trip_type   pickup_hour  day_of_week  \\\n",
       "1034390          6.36             1         1.0            9            0   \n",
       "49099           12.96             1         1.0            8            2   \n",
       "337325          38.80             1         1.0           22            0   \n",
       "1066418         12.36             1         1.0            0            1   \n",
       "244990          20.76             1         1.0           23            5   \n",
       "\n",
       "         tip_percent  pickup_day  pickup_month  week_of_year  \n",
       "1034390    16.666667          21             9            39  \n",
       "49099      16.666667           2             9            36  \n",
       "337325     90.206186           7             9            37  \n",
       "1066418    16.666667          22             9            39  \n",
       "244990     16.666667           5             9            36  \n",
       "\n",
       "[5 rows x 25 columns]"
      ]
     },
     "execution_count": 36,
     "metadata": {},
     "output_type": "execute_result"
    }
   ],
   "source": [
    "X, y = nyc_model, nyc_model.tip_percent\n",
    "X_train, X_test, y_train, y_test = train_test_split(X, y,test_size=0.4) # test size = 0.4, hence 60-40 split.\n",
    "X_test.head()"
   ]
  },
  {
   "cell_type": "code",
   "execution_count": 37,
   "metadata": {},
   "outputs": [
    {
     "name": "stderr",
     "output_type": "stream",
     "text": [
      "C:\\Users\\haris\\Anaconda3\\lib\\site-packages\\pandas\\core\\frame.py:3697: SettingWithCopyWarning: \n",
      "A value is trying to be set on a copy of a slice from a DataFrame\n",
      "\n",
      "See the caveats in the documentation: http://pandas.pydata.org/pandas-docs/stable/indexing.html#indexing-view-versus-copy\n",
      "  errors=errors)\n"
     ]
    }
   ],
   "source": [
    "# it's also necessary to drop the tip_amount, because then it'd be easy for the model to identify the percentage \n",
    "# of tip by just dividing it with the total fare.\n",
    "X_train.drop(['index', 'Tip_amount', 'tip_percent'], axis=1, inplace=True) \n",
    "X_test.drop(['index', 'Tip_amount', 'tip_percent'], axis=1, inplace=True) "
   ]
  },
  {
   "cell_type": "code",
   "execution_count": 38,
   "metadata": {},
   "outputs": [
    {
     "data": {
      "text/plain": [
       "VendorID                   int64\n",
       "Store_and_fwd_flag         int64\n",
       "RateCodeID                 int64\n",
       "Pickup_longitude         float64\n",
       "Pickup_latitude          float64\n",
       "Dropoff_longitude        float64\n",
       "Dropoff_latitude         float64\n",
       "Passenger_count            int64\n",
       "Trip_distance            float64\n",
       "Fare_amount              float64\n",
       "Extra                    float64\n",
       "MTA_tax                  float64\n",
       "Tolls_amount             float64\n",
       "improvement_surcharge    float64\n",
       "Total_amount             float64\n",
       "Payment_type               int64\n",
       "Trip_type                float64\n",
       "pickup_hour                int64\n",
       "day_of_week                int64\n",
       "pickup_day                 int64\n",
       "pickup_month               int64\n",
       "week_of_year               int64\n",
       "dtype: object"
      ]
     },
     "execution_count": 38,
     "metadata": {},
     "output_type": "execute_result"
    }
   ],
   "source": [
    "X_train.dtypes"
   ]
  },
  {
   "cell_type": "markdown",
   "metadata": {},
   "source": [
    "### Predictive Model\n"
   ]
  },
  {
   "cell_type": "code",
   "execution_count": 39,
   "metadata": {},
   "outputs": [],
   "source": [
    "from sklearn import model_selection, preprocessing, metrics # import a few other modules\n",
    "from sklearn.model_selection import GridSearchCV,RandomizedSearchCV\n",
    "from sklearn.ensemble import RandomForestRegressor  \n",
    "from sklearn.model_selection import cross_val_score  \n",
    "from scipy.stats import randint as sp_randint"
   ]
  },
  {
   "cell_type": "markdown",
   "metadata": {},
   "source": [
    "### Linear regression model"
   ]
  },
  {
   "cell_type": "code",
   "execution_count": 40,
   "metadata": {},
   "outputs": [
    {
     "name": "stdout",
     "output_type": "stream",
     "text": [
      "Fitting 5 folds for each of 8 candidates, totalling 40 fits\n"
     ]
    },
    {
     "name": "stderr",
     "output_type": "stream",
     "text": [
      "[Parallel(n_jobs=-1)]: Using backend LokyBackend with 8 concurrent workers.\n",
      "[Parallel(n_jobs=-1)]: Done   2 tasks      | elapsed:    4.7s\n",
      "[Parallel(n_jobs=-1)]: Done   9 tasks      | elapsed:    7.0s\n",
      "[Parallel(n_jobs=-1)]: Done  16 tasks      | elapsed:    7.5s\n",
      "[Parallel(n_jobs=-1)]: Done  25 tasks      | elapsed:   11.7s\n",
      "[Parallel(n_jobs=-1)]: Done  30 out of  40 | elapsed:   12.0s remaining:    3.9s\n",
      "[Parallel(n_jobs=-1)]: Done  35 out of  40 | elapsed:   14.0s remaining:    1.9s\n",
      "[Parallel(n_jobs=-1)]: Done  40 out of  40 | elapsed:   14.2s remaining:    0.0s\n",
      "[Parallel(n_jobs=-1)]: Done  40 out of  40 | elapsed:   14.2s finished\n"
     ]
    }
   ],
   "source": [
    "##Linear Regression with 5 fold cross validation using GridsearchCV\n",
    "regr = linear_model.LinearRegression()\n",
    "parameters = {'fit_intercept':[True,False], 'normalize':[True,False], 'copy_X':[True, False]}\n",
    "gs_regr= GridSearchCV(regr, param_grid=parameters, scoring='neg_mean_squared_error',cv=5, verbose=10, n_jobs=-1)\n",
    "gs_regr.fit(X_train, y_train)\n",
    "gs_regr.best_score_\n",
    "best_regr = gs_regr.best_estimator_"
   ]
  },
  {
   "cell_type": "code",
   "execution_count": 41,
   "metadata": {},
   "outputs": [
    {
     "data": {
      "text/plain": [
       "3.7456174423725628"
      ]
     },
     "execution_count": 41,
     "metadata": {},
     "output_type": "execute_result"
    }
   ],
   "source": [
    "predictions=best_regr.predict(X_test)\n",
    "rmse_reg=np.sqrt(mean_squared_error(y_test, predictions))\n",
    "rmse_reg"
   ]
  },
  {
   "cell_type": "markdown",
   "metadata": {},
   "source": [
    "### ExtremeGradient Boosting"
   ]
  },
  {
   "cell_type": "code",
   "execution_count": 42,
   "metadata": {},
   "outputs": [],
   "source": [
    "dtrain = xgb.DMatrix(X_train, label=y_train)"
   ]
  },
  {
   "cell_type": "code",
   "execution_count": 43,
   "metadata": {},
   "outputs": [
    {
     "name": "stderr",
     "output_type": "stream",
     "text": [
      "C:\\Users\\haris\\Anaconda3\\lib\\site-packages\\sklearn\\model_selection\\_search.py:271: UserWarning: The total space of parameters 1 is smaller than n_iter=10. Running 1 iterations. For exhaustive searches, use GridSearchCV.\n",
      "  % (grid_size, self.n_iter, grid_size), UserWarning)\n",
      "[Parallel(n_jobs=-1)]: Using backend LokyBackend with 8 concurrent workers.\n"
     ]
    },
    {
     "name": "stdout",
     "output_type": "stream",
     "text": [
      "Fitting 5 folds for each of 1 candidates, totalling 5 fits\n"
     ]
    },
    {
     "name": "stderr",
     "output_type": "stream",
     "text": [
      "[Parallel(n_jobs=-1)]: Done   2 out of   5 | elapsed:  1.7min remaining:  2.6min\n",
      "[Parallel(n_jobs=-1)]: Done   3 out of   5 | elapsed:  1.7min remaining:  1.2min\n",
      "[Parallel(n_jobs=-1)]: Done   5 out of   5 | elapsed:  1.8min remaining:    0.0s\n",
      "[Parallel(n_jobs=-1)]: Done   5 out of   5 | elapsed:  1.8min finished\n"
     ]
    },
    {
     "data": {
      "text/plain": [
       "RandomizedSearchCV(cv=5, error_score='raise-deprecating',\n",
       "          estimator=XGBRegressor(base_score=0.5, booster='gbtree', colsample_bylevel=1,\n",
       "       colsample_bytree=0.3, eta=0.1, eval_metric='rmse', gamma=0,\n",
       "       learning_rate=0.1, max_delta_step=0, max_depth=5,\n",
       "       min_child_weight=1, missing=None, n_estimators=300, n_jobs=1,\n",
       "       nthread=4, num_boost_round=80, objective='reg:linear',\n",
       "       random_state=2018, reg_alpha=0, reg_lambda=1, scale_pos_weight=1,\n",
       "       seed=None, silent=1, subsample=1),\n",
       "          fit_params=None, iid='warn', n_iter=10, n_jobs=-1,\n",
       "          param_distributions={}, pre_dispatch='2*n_jobs',\n",
       "          random_state=None, refit=True, return_train_score='warn',\n",
       "          scoring=None, verbose=10)"
      ]
     },
     "execution_count": 43,
     "metadata": {},
     "output_type": "execute_result"
    }
   ],
   "source": [
    "##ExtremeGradient Boosting with 5 fold cross validation using RandomizedSearchCV\n",
    "import xgboost as xgb\n",
    "xg_reg = xgb.XGBRegressor(objective='reg:linear',eval_metric = 'rmse', max_depth = 5,learning_rate = 0.1,n_estimators=300,colsample_bytree = 0.3,num_boost_round = 80, eta = 0.1,nthread = 4,random_state=2018,silent=1)  \n",
    "params = {}\n",
    "gs_xgbcv= RandomizedSearchCV(xg_reg,param_distributions=params, cv=5, verbose=10, n_jobs=-1)\n",
    "##dtrain = xgb.DMatrix(X_train, y_train)\n",
    "##model = xgb.train(params,dtrain, 10000)\n",
    "gs_xgbcv.fit(X_train, y_train)"
   ]
  },
  {
   "cell_type": "code",
   "execution_count": 44,
   "metadata": {},
   "outputs": [
    {
     "data": {
      "text/plain": [
       "3.261034995821456"
      ]
     },
     "execution_count": 44,
     "metadata": {},
     "output_type": "execute_result"
    }
   ],
   "source": [
    "best_xgb=gs_xgbcv.best_estimator_\n",
    "predictions=best_xgb.predict(X_test)\n",
    "rmse_xgb=np.sqrt(mean_squared_error(y_test, predictions))\n",
    "rmse_xgb"
   ]
  },
  {
   "cell_type": "markdown",
   "metadata": {},
   "source": [
    "### LightGBM Model"
   ]
  },
  {
   "cell_type": "code",
   "execution_count": 45,
   "metadata": {},
   "outputs": [],
   "source": [
    "def runLGB(X_train, y_train, X_test, y_test):\n",
    "    params = {}\n",
    "    params[\"objective\"] = \"regression\"\n",
    "    params['metric'] = \"rmse\"\n",
    "    params[\"learning_rate\"] = 0.05\n",
    "    params[\"min_child_weight\"] = 1\n",
    "    params[\"bagging_fraction\"] = 0.8\n",
    "    params[\"bagging_seed\"] = 2018\n",
    "    params[\"feature_fraction\"] = 0.7\n",
    "    params[\"verbosity\"] = 0\n",
    "    params[\"max_depth\"] = 5\n",
    "    params[\"num_leaves\"] = 10\n",
    "    params[\"nthread\"] = -1\n",
    "    num_rounds=10000\n",
    "    lgtrain = lgb.Dataset(X_train, label=y_train)\n",
    "    lgval = lgb.Dataset(X_test, label = y_test)\n",
    "    model = lgb.train(params, lgtrain, num_rounds, valid_sets=lgval, early_stopping_rounds=100, verbose_eval=20)\n",
    "\n",
    "    pred_test = model.predict(X_test, num_iteration=model.best_iteration)\n",
    "\n",
    "    \n",
    "    return pred_test,  model"
   ]
  },
  {
   "cell_type": "code",
   "execution_count": 46,
   "metadata": {},
   "outputs": [
    {
     "name": "stdout",
     "output_type": "stream",
     "text": [
      "Training until validation scores don't improve for 100 rounds.\n",
      "[20]\tvalid_0's rmse: 4.9104\n",
      "[40]\tvalid_0's rmse: 4.54979\n",
      "[60]\tvalid_0's rmse: 4.25298\n",
      "[80]\tvalid_0's rmse: 4.1236\n",
      "[100]\tvalid_0's rmse: 3.98185\n",
      "[120]\tvalid_0's rmse: 3.87249\n",
      "[140]\tvalid_0's rmse: 3.73852\n",
      "[160]\tvalid_0's rmse: 3.59518\n",
      "[180]\tvalid_0's rmse: 3.4534\n",
      "[200]\tvalid_0's rmse: 3.33885\n",
      "[220]\tvalid_0's rmse: 3.23543\n",
      "[240]\tvalid_0's rmse: 3.14199\n",
      "[260]\tvalid_0's rmse: 3.08542\n",
      "[280]\tvalid_0's rmse: 3.00739\n",
      "[300]\tvalid_0's rmse: 2.93696\n",
      "[320]\tvalid_0's rmse: 2.85552\n",
      "[340]\tvalid_0's rmse: 2.76134\n",
      "[360]\tvalid_0's rmse: 2.67892\n",
      "[380]\tvalid_0's rmse: 2.60111\n",
      "[400]\tvalid_0's rmse: 2.53374\n",
      "[420]\tvalid_0's rmse: 2.4882\n",
      "[440]\tvalid_0's rmse: 2.41882\n",
      "[460]\tvalid_0's rmse: 2.35394\n",
      "[480]\tvalid_0's rmse: 2.30841\n",
      "[500]\tvalid_0's rmse: 2.26139\n",
      "[520]\tvalid_0's rmse: 2.22674\n",
      "[540]\tvalid_0's rmse: 2.15695\n",
      "[560]\tvalid_0's rmse: 2.1164\n",
      "[580]\tvalid_0's rmse: 2.07488\n",
      "[600]\tvalid_0's rmse: 2.04437\n",
      "[620]\tvalid_0's rmse: 1.99801\n",
      "[640]\tvalid_0's rmse: 1.95441\n",
      "[660]\tvalid_0's rmse: 1.91269\n",
      "[680]\tvalid_0's rmse: 1.87562\n",
      "[700]\tvalid_0's rmse: 1.83269\n",
      "[720]\tvalid_0's rmse: 1.79006\n",
      "[740]\tvalid_0's rmse: 1.76138\n",
      "[760]\tvalid_0's rmse: 1.72981\n",
      "[780]\tvalid_0's rmse: 1.70709\n",
      "[800]\tvalid_0's rmse: 1.67991\n",
      "[820]\tvalid_0's rmse: 1.65708\n",
      "[840]\tvalid_0's rmse: 1.62189\n",
      "[860]\tvalid_0's rmse: 1.58874\n",
      "[880]\tvalid_0's rmse: 1.56183\n",
      "[900]\tvalid_0's rmse: 1.5394\n",
      "[920]\tvalid_0's rmse: 1.50374\n",
      "[940]\tvalid_0's rmse: 1.48483\n",
      "[960]\tvalid_0's rmse: 1.4656\n",
      "[980]\tvalid_0's rmse: 1.44346\n",
      "[1000]\tvalid_0's rmse: 1.41961\n",
      "[1020]\tvalid_0's rmse: 1.40222\n",
      "[1040]\tvalid_0's rmse: 1.38518\n",
      "[1060]\tvalid_0's rmse: 1.35877\n",
      "[1080]\tvalid_0's rmse: 1.34193\n",
      "[1100]\tvalid_0's rmse: 1.32284\n",
      "[1120]\tvalid_0's rmse: 1.30663\n",
      "[1140]\tvalid_0's rmse: 1.28979\n",
      "[1160]\tvalid_0's rmse: 1.2717\n",
      "[1180]\tvalid_0's rmse: 1.25493\n",
      "[1200]\tvalid_0's rmse: 1.24293\n",
      "[1220]\tvalid_0's rmse: 1.23269\n",
      "[1240]\tvalid_0's rmse: 1.21511\n",
      "[1260]\tvalid_0's rmse: 1.2019\n",
      "[1280]\tvalid_0's rmse: 1.18635\n",
      "[1300]\tvalid_0's rmse: 1.1696\n",
      "[1320]\tvalid_0's rmse: 1.1563\n",
      "[1340]\tvalid_0's rmse: 1.1417\n",
      "[1360]\tvalid_0's rmse: 1.12842\n",
      "[1380]\tvalid_0's rmse: 1.11301\n",
      "[1400]\tvalid_0's rmse: 1.10248\n",
      "[1420]\tvalid_0's rmse: 1.08902\n",
      "[1440]\tvalid_0's rmse: 1.07512\n",
      "[1460]\tvalid_0's rmse: 1.06352\n",
      "[1480]\tvalid_0's rmse: 1.05439\n",
      "[1500]\tvalid_0's rmse: 1.04703\n",
      "[1520]\tvalid_0's rmse: 1.03591\n",
      "[1540]\tvalid_0's rmse: 1.02471\n",
      "[1560]\tvalid_0's rmse: 1.01638\n",
      "[1580]\tvalid_0's rmse: 1.00694\n",
      "[1600]\tvalid_0's rmse: 0.994027\n",
      "[1620]\tvalid_0's rmse: 0.98412\n",
      "[1640]\tvalid_0's rmse: 0.975713\n",
      "[1660]\tvalid_0's rmse: 0.967406\n",
      "[1680]\tvalid_0's rmse: 0.959708\n",
      "[1700]\tvalid_0's rmse: 0.952309\n",
      "[1720]\tvalid_0's rmse: 0.944511\n",
      "[1740]\tvalid_0's rmse: 0.935388\n",
      "[1760]\tvalid_0's rmse: 0.927369\n",
      "[1780]\tvalid_0's rmse: 0.920903\n",
      "[1800]\tvalid_0's rmse: 0.913431\n",
      "[1820]\tvalid_0's rmse: 0.907664\n",
      "[1840]\tvalid_0's rmse: 0.900677\n",
      "[1860]\tvalid_0's rmse: 0.893645\n",
      "[1880]\tvalid_0's rmse: 0.887047\n",
      "[1900]\tvalid_0's rmse: 0.881415\n",
      "[1920]\tvalid_0's rmse: 0.875586\n",
      "[1940]\tvalid_0's rmse: 0.870776\n",
      "[1960]\tvalid_0's rmse: 0.864811\n",
      "[1980]\tvalid_0's rmse: 0.858884\n",
      "[2000]\tvalid_0's rmse: 0.853987\n",
      "[2020]\tvalid_0's rmse: 0.848791\n",
      "[2040]\tvalid_0's rmse: 0.843474\n",
      "[2060]\tvalid_0's rmse: 0.838662\n",
      "[2080]\tvalid_0's rmse: 0.832543\n",
      "[2100]\tvalid_0's rmse: 0.828128\n",
      "[2120]\tvalid_0's rmse: 0.823306\n",
      "[2140]\tvalid_0's rmse: 0.818469\n",
      "[2160]\tvalid_0's rmse: 0.813491\n",
      "[2180]\tvalid_0's rmse: 0.809138\n",
      "[2200]\tvalid_0's rmse: 0.804985\n",
      "[2220]\tvalid_0's rmse: 0.801296\n",
      "[2240]\tvalid_0's rmse: 0.795637\n",
      "[2260]\tvalid_0's rmse: 0.791418\n",
      "[2280]\tvalid_0's rmse: 0.787064\n",
      "[2300]\tvalid_0's rmse: 0.783618\n",
      "[2320]\tvalid_0's rmse: 0.780498\n",
      "[2340]\tvalid_0's rmse: 0.778163\n",
      "[2360]\tvalid_0's rmse: 0.774735\n",
      "[2380]\tvalid_0's rmse: 0.772038\n",
      "[2400]\tvalid_0's rmse: 0.767969\n",
      "[2420]\tvalid_0's rmse: 0.764993\n",
      "[2440]\tvalid_0's rmse: 0.761883\n",
      "[2460]\tvalid_0's rmse: 0.758982\n",
      "[2480]\tvalid_0's rmse: 0.75532\n",
      "[2500]\tvalid_0's rmse: 0.752223\n",
      "[2520]\tvalid_0's rmse: 0.748691\n",
      "[2540]\tvalid_0's rmse: 0.745121\n",
      "[2560]\tvalid_0's rmse: 0.742003\n",
      "[2580]\tvalid_0's rmse: 0.738544\n",
      "[2600]\tvalid_0's rmse: 0.735646\n",
      "[2620]\tvalid_0's rmse: 0.733583\n",
      "[2640]\tvalid_0's rmse: 0.73064\n",
      "[2660]\tvalid_0's rmse: 0.72857\n",
      "[2680]\tvalid_0's rmse: 0.725864\n",
      "[2700]\tvalid_0's rmse: 0.723721\n",
      "[2720]\tvalid_0's rmse: 0.72176\n",
      "[2740]\tvalid_0's rmse: 0.71963\n",
      "[2760]\tvalid_0's rmse: 0.718249\n",
      "[2780]\tvalid_0's rmse: 0.715944\n",
      "[2800]\tvalid_0's rmse: 0.71389\n",
      "[2820]\tvalid_0's rmse: 0.71155\n",
      "[2840]\tvalid_0's rmse: 0.709506\n",
      "[2860]\tvalid_0's rmse: 0.706944\n",
      "[2880]\tvalid_0's rmse: 0.70538\n",
      "[2900]\tvalid_0's rmse: 0.703329\n",
      "[2920]\tvalid_0's rmse: 0.700923\n",
      "[2940]\tvalid_0's rmse: 0.69892\n",
      "[2960]\tvalid_0's rmse: 0.696988\n",
      "[2980]\tvalid_0's rmse: 0.695005\n",
      "[3000]\tvalid_0's rmse: 0.692853\n",
      "[3020]\tvalid_0's rmse: 0.691319\n",
      "[3040]\tvalid_0's rmse: 0.689338\n",
      "[3060]\tvalid_0's rmse: 0.687039\n",
      "[3080]\tvalid_0's rmse: 0.685046\n",
      "[3100]\tvalid_0's rmse: 0.683849\n",
      "[3120]\tvalid_0's rmse: 0.682338\n",
      "[3140]\tvalid_0's rmse: 0.68035\n",
      "[3160]\tvalid_0's rmse: 0.678522\n",
      "[3180]\tvalid_0's rmse: 0.677058\n",
      "[3200]\tvalid_0's rmse: 0.674779\n",
      "[3220]\tvalid_0's rmse: 0.673686\n",
      "[3240]\tvalid_0's rmse: 0.672693\n",
      "[3260]\tvalid_0's rmse: 0.671236\n",
      "[3280]\tvalid_0's rmse: 0.669582\n",
      "[3300]\tvalid_0's rmse: 0.667945\n",
      "[3320]\tvalid_0's rmse: 0.666469\n",
      "[3340]\tvalid_0's rmse: 0.665573\n",
      "[3360]\tvalid_0's rmse: 0.664222\n",
      "[3380]\tvalid_0's rmse: 0.66268\n",
      "[3400]\tvalid_0's rmse: 0.661275\n",
      "[3420]\tvalid_0's rmse: 0.660065\n",
      "[3440]\tvalid_0's rmse: 0.659174\n",
      "[3460]\tvalid_0's rmse: 0.658163\n",
      "[3480]\tvalid_0's rmse: 0.657191\n",
      "[3500]\tvalid_0's rmse: 0.655836\n",
      "[3520]\tvalid_0's rmse: 0.654691\n",
      "[3540]\tvalid_0's rmse: 0.653602\n",
      "[3560]\tvalid_0's rmse: 0.652581\n",
      "[3580]\tvalid_0's rmse: 0.651253\n",
      "[3600]\tvalid_0's rmse: 0.650249\n",
      "[3620]\tvalid_0's rmse: 0.649084\n",
      "[3640]\tvalid_0's rmse: 0.647957\n",
      "[3660]\tvalid_0's rmse: 0.646764\n",
      "[3680]\tvalid_0's rmse: 0.645315\n",
      "[3700]\tvalid_0's rmse: 0.644109\n",
      "[3720]\tvalid_0's rmse: 0.643097\n",
      "[3740]\tvalid_0's rmse: 0.642225\n",
      "[3760]\tvalid_0's rmse: 0.641193\n",
      "[3780]\tvalid_0's rmse: 0.64018\n",
      "[3800]\tvalid_0's rmse: 0.639\n",
      "[3820]\tvalid_0's rmse: 0.63831\n",
      "[3840]\tvalid_0's rmse: 0.637111\n",
      "[3860]\tvalid_0's rmse: 0.636118\n",
      "[3880]\tvalid_0's rmse: 0.635064\n",
      "[3900]\tvalid_0's rmse: 0.633979\n",
      "[3920]\tvalid_0's rmse: 0.632831\n",
      "[3940]\tvalid_0's rmse: 0.63197\n",
      "[3960]\tvalid_0's rmse: 0.630804\n",
      "[3980]\tvalid_0's rmse: 0.629874\n",
      "[4000]\tvalid_0's rmse: 0.629112\n",
      "[4020]\tvalid_0's rmse: 0.628312\n",
      "[4040]\tvalid_0's rmse: 0.627566\n",
      "[4060]\tvalid_0's rmse: 0.626426\n",
      "[4080]\tvalid_0's rmse: 0.626008\n",
      "[4100]\tvalid_0's rmse: 0.625377\n",
      "[4120]\tvalid_0's rmse: 0.624868\n",
      "[4140]\tvalid_0's rmse: 0.624078\n",
      "[4160]\tvalid_0's rmse: 0.623104\n",
      "[4180]\tvalid_0's rmse: 0.622372\n",
      "[4200]\tvalid_0's rmse: 0.621715\n",
      "[4220]\tvalid_0's rmse: 0.621227\n",
      "[4240]\tvalid_0's rmse: 0.620487\n",
      "[4260]\tvalid_0's rmse: 0.619315\n",
      "[4280]\tvalid_0's rmse: 0.618434\n",
      "[4300]\tvalid_0's rmse: 0.617655\n",
      "[4320]\tvalid_0's rmse: 0.616898\n",
      "[4340]\tvalid_0's rmse: 0.616015\n",
      "[4360]\tvalid_0's rmse: 0.615547\n",
      "[4380]\tvalid_0's rmse: 0.614798\n",
      "[4400]\tvalid_0's rmse: 0.614111\n",
      "[4420]\tvalid_0's rmse: 0.613668\n",
      "[4440]\tvalid_0's rmse: 0.613301\n",
      "[4460]\tvalid_0's rmse: 0.612475\n",
      "[4480]\tvalid_0's rmse: 0.611917\n",
      "[4500]\tvalid_0's rmse: 0.611414\n",
      "[4520]\tvalid_0's rmse: 0.610817\n",
      "[4540]\tvalid_0's rmse: 0.610367\n",
      "[4560]\tvalid_0's rmse: 0.609741\n",
      "[4580]\tvalid_0's rmse: 0.60891\n",
      "[4600]\tvalid_0's rmse: 0.608302\n",
      "[4620]\tvalid_0's rmse: 0.608066\n",
      "[4640]\tvalid_0's rmse: 0.607567\n",
      "[4660]\tvalid_0's rmse: 0.607054\n",
      "[4680]\tvalid_0's rmse: 0.606443\n",
      "[4700]\tvalid_0's rmse: 0.606263\n",
      "[4720]\tvalid_0's rmse: 0.60583\n",
      "[4740]\tvalid_0's rmse: 0.605216\n",
      "[4760]\tvalid_0's rmse: 0.604613\n",
      "[4780]\tvalid_0's rmse: 0.604202\n",
      "[4800]\tvalid_0's rmse: 0.603462\n",
      "[4820]\tvalid_0's rmse: 0.602915\n",
      "[4840]\tvalid_0's rmse: 0.602451\n",
      "[4860]\tvalid_0's rmse: 0.601595\n",
      "[4880]\tvalid_0's rmse: 0.600878\n",
      "[4900]\tvalid_0's rmse: 0.600301\n",
      "[4920]\tvalid_0's rmse: 0.599961\n",
      "[4940]\tvalid_0's rmse: 0.59947\n",
      "[4960]\tvalid_0's rmse: 0.599168\n",
      "[4980]\tvalid_0's rmse: 0.598707\n",
      "[5000]\tvalid_0's rmse: 0.598064\n",
      "[5020]\tvalid_0's rmse: 0.597575\n",
      "[5040]\tvalid_0's rmse: 0.597135\n",
      "[5060]\tvalid_0's rmse: 0.59673\n",
      "[5080]\tvalid_0's rmse: 0.595945\n",
      "[5100]\tvalid_0's rmse: 0.595569\n",
      "[5120]\tvalid_0's rmse: 0.595228\n",
      "[5140]\tvalid_0's rmse: 0.594686\n",
      "[5160]\tvalid_0's rmse: 0.594291\n",
      "[5180]\tvalid_0's rmse: 0.593817\n",
      "[5200]\tvalid_0's rmse: 0.593575\n"
     ]
    },
    {
     "name": "stdout",
     "output_type": "stream",
     "text": [
      "[5220]\tvalid_0's rmse: 0.593042\n",
      "[5240]\tvalid_0's rmse: 0.592413\n",
      "[5260]\tvalid_0's rmse: 0.59208\n",
      "[5280]\tvalid_0's rmse: 0.591307\n",
      "[5300]\tvalid_0's rmse: 0.590694\n",
      "[5320]\tvalid_0's rmse: 0.590382\n",
      "[5340]\tvalid_0's rmse: 0.590129\n",
      "[5360]\tvalid_0's rmse: 0.589893\n",
      "[5380]\tvalid_0's rmse: 0.589518\n",
      "[5400]\tvalid_0's rmse: 0.589042\n",
      "[5420]\tvalid_0's rmse: 0.588668\n",
      "[5440]\tvalid_0's rmse: 0.588341\n",
      "[5460]\tvalid_0's rmse: 0.588069\n",
      "[5480]\tvalid_0's rmse: 0.587711\n",
      "[5500]\tvalid_0's rmse: 0.58726\n",
      "[5520]\tvalid_0's rmse: 0.587009\n",
      "[5540]\tvalid_0's rmse: 0.586648\n",
      "[5560]\tvalid_0's rmse: 0.586205\n",
      "[5580]\tvalid_0's rmse: 0.585524\n",
      "[5600]\tvalid_0's rmse: 0.585098\n",
      "[5620]\tvalid_0's rmse: 0.58478\n",
      "[5640]\tvalid_0's rmse: 0.584249\n",
      "[5660]\tvalid_0's rmse: 0.583928\n",
      "[5680]\tvalid_0's rmse: 0.583545\n",
      "[5700]\tvalid_0's rmse: 0.583216\n",
      "[5720]\tvalid_0's rmse: 0.582703\n",
      "[5740]\tvalid_0's rmse: 0.582343\n",
      "[5760]\tvalid_0's rmse: 0.582115\n",
      "[5780]\tvalid_0's rmse: 0.581808\n",
      "[5800]\tvalid_0's rmse: 0.581433\n",
      "[5820]\tvalid_0's rmse: 0.58113\n",
      "[5840]\tvalid_0's rmse: 0.580717\n",
      "[5860]\tvalid_0's rmse: 0.580341\n",
      "[5880]\tvalid_0's rmse: 0.580037\n",
      "[5900]\tvalid_0's rmse: 0.579635\n",
      "[5920]\tvalid_0's rmse: 0.579339\n",
      "[5940]\tvalid_0's rmse: 0.579019\n",
      "[5960]\tvalid_0's rmse: 0.578684\n",
      "[5980]\tvalid_0's rmse: 0.578418\n",
      "[6000]\tvalid_0's rmse: 0.577915\n",
      "[6020]\tvalid_0's rmse: 0.577519\n",
      "[6040]\tvalid_0's rmse: 0.577224\n",
      "[6060]\tvalid_0's rmse: 0.577048\n",
      "[6080]\tvalid_0's rmse: 0.576569\n",
      "[6100]\tvalid_0's rmse: 0.576234\n",
      "[6120]\tvalid_0's rmse: 0.575898\n",
      "[6140]\tvalid_0's rmse: 0.575708\n",
      "[6160]\tvalid_0's rmse: 0.575379\n",
      "[6180]\tvalid_0's rmse: 0.574964\n",
      "[6200]\tvalid_0's rmse: 0.574647\n",
      "[6220]\tvalid_0's rmse: 0.57419\n",
      "[6240]\tvalid_0's rmse: 0.573998\n",
      "[6260]\tvalid_0's rmse: 0.573777\n",
      "[6280]\tvalid_0's rmse: 0.573577\n",
      "[6300]\tvalid_0's rmse: 0.573247\n",
      "[6320]\tvalid_0's rmse: 0.572821\n",
      "[6340]\tvalid_0's rmse: 0.572472\n",
      "[6360]\tvalid_0's rmse: 0.572229\n",
      "[6380]\tvalid_0's rmse: 0.571715\n",
      "[6400]\tvalid_0's rmse: 0.571448\n",
      "[6420]\tvalid_0's rmse: 0.571219\n",
      "[6440]\tvalid_0's rmse: 0.570963\n",
      "[6460]\tvalid_0's rmse: 0.570725\n",
      "[6480]\tvalid_0's rmse: 0.570509\n",
      "[6500]\tvalid_0's rmse: 0.570295\n",
      "[6520]\tvalid_0's rmse: 0.570183\n",
      "[6540]\tvalid_0's rmse: 0.569787\n",
      "[6560]\tvalid_0's rmse: 0.569533\n",
      "[6580]\tvalid_0's rmse: 0.569288\n",
      "[6600]\tvalid_0's rmse: 0.569203\n",
      "[6620]\tvalid_0's rmse: 0.56889\n",
      "[6640]\tvalid_0's rmse: 0.568758\n",
      "[6660]\tvalid_0's rmse: 0.568422\n",
      "[6680]\tvalid_0's rmse: 0.568181\n",
      "[6700]\tvalid_0's rmse: 0.56797\n",
      "[6720]\tvalid_0's rmse: 0.567782\n",
      "[6740]\tvalid_0's rmse: 0.567665\n",
      "[6760]\tvalid_0's rmse: 0.567362\n",
      "[6780]\tvalid_0's rmse: 0.567219\n",
      "[6800]\tvalid_0's rmse: 0.566961\n",
      "[6820]\tvalid_0's rmse: 0.566669\n",
      "[6840]\tvalid_0's rmse: 0.566384\n",
      "[6860]\tvalid_0's rmse: 0.566109\n",
      "[6880]\tvalid_0's rmse: 0.565841\n",
      "[6900]\tvalid_0's rmse: 0.565678\n",
      "[6920]\tvalid_0's rmse: 0.565565\n",
      "[6940]\tvalid_0's rmse: 0.565318\n",
      "[6960]\tvalid_0's rmse: 0.565054\n",
      "[6980]\tvalid_0's rmse: 0.56481\n",
      "[7000]\tvalid_0's rmse: 0.564519\n",
      "[7020]\tvalid_0's rmse: 0.564429\n",
      "[7040]\tvalid_0's rmse: 0.564115\n",
      "[7060]\tvalid_0's rmse: 0.564007\n",
      "[7080]\tvalid_0's rmse: 0.56389\n",
      "[7100]\tvalid_0's rmse: 0.563655\n",
      "[7120]\tvalid_0's rmse: 0.563512\n",
      "[7140]\tvalid_0's rmse: 0.56336\n",
      "[7160]\tvalid_0's rmse: 0.563273\n",
      "[7180]\tvalid_0's rmse: 0.563154\n",
      "[7200]\tvalid_0's rmse: 0.562763\n",
      "[7220]\tvalid_0's rmse: 0.562623\n",
      "[7240]\tvalid_0's rmse: 0.562533\n",
      "[7260]\tvalid_0's rmse: 0.562422\n",
      "[7280]\tvalid_0's rmse: 0.562381\n",
      "[7300]\tvalid_0's rmse: 0.562165\n",
      "[7320]\tvalid_0's rmse: 0.562013\n",
      "[7340]\tvalid_0's rmse: 0.561772\n",
      "[7360]\tvalid_0's rmse: 0.561539\n",
      "[7380]\tvalid_0's rmse: 0.561506\n",
      "[7400]\tvalid_0's rmse: 0.561214\n",
      "[7420]\tvalid_0's rmse: 0.561\n",
      "[7440]\tvalid_0's rmse: 0.560819\n",
      "[7460]\tvalid_0's rmse: 0.560507\n",
      "[7480]\tvalid_0's rmse: 0.560311\n",
      "[7500]\tvalid_0's rmse: 0.560233\n",
      "[7520]\tvalid_0's rmse: 0.559975\n",
      "[7540]\tvalid_0's rmse: 0.559778\n",
      "[7560]\tvalid_0's rmse: 0.5595\n",
      "[7580]\tvalid_0's rmse: 0.559239\n",
      "[7600]\tvalid_0's rmse: 0.559073\n",
      "[7620]\tvalid_0's rmse: 0.559007\n",
      "[7640]\tvalid_0's rmse: 0.5588\n",
      "[7660]\tvalid_0's rmse: 0.558493\n",
      "[7680]\tvalid_0's rmse: 0.558363\n",
      "[7700]\tvalid_0's rmse: 0.558111\n",
      "[7720]\tvalid_0's rmse: 0.557906\n",
      "[7740]\tvalid_0's rmse: 0.557727\n",
      "[7760]\tvalid_0's rmse: 0.557675\n",
      "[7780]\tvalid_0's rmse: 0.557612\n",
      "[7800]\tvalid_0's rmse: 0.557413\n",
      "[7820]\tvalid_0's rmse: 0.557412\n",
      "[7840]\tvalid_0's rmse: 0.557234\n",
      "[7860]\tvalid_0's rmse: 0.557119\n",
      "[7880]\tvalid_0's rmse: 0.556942\n",
      "[7900]\tvalid_0's rmse: 0.556856\n",
      "[7920]\tvalid_0's rmse: 0.556657\n",
      "[7940]\tvalid_0's rmse: 0.556544\n",
      "[7960]\tvalid_0's rmse: 0.556398\n",
      "[7980]\tvalid_0's rmse: 0.55626\n",
      "[8000]\tvalid_0's rmse: 0.556119\n",
      "[8020]\tvalid_0's rmse: 0.556051\n",
      "[8040]\tvalid_0's rmse: 0.556004\n",
      "[8060]\tvalid_0's rmse: 0.555883\n",
      "[8080]\tvalid_0's rmse: 0.555751\n",
      "[8100]\tvalid_0's rmse: 0.555601\n",
      "[8120]\tvalid_0's rmse: 0.555486\n",
      "[8140]\tvalid_0's rmse: 0.55525\n",
      "[8160]\tvalid_0's rmse: 0.555153\n",
      "[8180]\tvalid_0's rmse: 0.555016\n",
      "[8200]\tvalid_0's rmse: 0.554789\n",
      "[8220]\tvalid_0's rmse: 0.554616\n",
      "[8240]\tvalid_0's rmse: 0.554359\n",
      "[8260]\tvalid_0's rmse: 0.554221\n",
      "[8280]\tvalid_0's rmse: 0.553978\n",
      "[8300]\tvalid_0's rmse: 0.553799\n",
      "[8320]\tvalid_0's rmse: 0.553687\n",
      "[8340]\tvalid_0's rmse: 0.55346\n",
      "[8360]\tvalid_0's rmse: 0.553342\n",
      "[8380]\tvalid_0's rmse: 0.553193\n",
      "[8400]\tvalid_0's rmse: 0.553045\n",
      "[8420]\tvalid_0's rmse: 0.552922\n",
      "[8440]\tvalid_0's rmse: 0.552652\n",
      "[8460]\tvalid_0's rmse: 0.552553\n",
      "[8480]\tvalid_0's rmse: 0.552383\n",
      "[8500]\tvalid_0's rmse: 0.552281\n",
      "[8520]\tvalid_0's rmse: 0.552065\n",
      "[8540]\tvalid_0's rmse: 0.55197\n",
      "[8560]\tvalid_0's rmse: 0.551892\n",
      "[8580]\tvalid_0's rmse: 0.551822\n",
      "[8600]\tvalid_0's rmse: 0.551708\n",
      "[8620]\tvalid_0's rmse: 0.551562\n",
      "[8640]\tvalid_0's rmse: 0.551446\n",
      "[8660]\tvalid_0's rmse: 0.551284\n",
      "[8680]\tvalid_0's rmse: 0.551154\n",
      "[8700]\tvalid_0's rmse: 0.551055\n",
      "[8720]\tvalid_0's rmse: 0.550957\n",
      "[8740]\tvalid_0's rmse: 0.550738\n",
      "[8760]\tvalid_0's rmse: 0.550581\n",
      "[8780]\tvalid_0's rmse: 0.550454\n",
      "[8800]\tvalid_0's rmse: 0.550262\n",
      "[8820]\tvalid_0's rmse: 0.550048\n",
      "[8840]\tvalid_0's rmse: 0.549972\n",
      "[8860]\tvalid_0's rmse: 0.54979\n",
      "[8880]\tvalid_0's rmse: 0.549764\n",
      "[8900]\tvalid_0's rmse: 0.549561\n",
      "[8920]\tvalid_0's rmse: 0.549427\n",
      "[8940]\tvalid_0's rmse: 0.549359\n",
      "[8960]\tvalid_0's rmse: 0.549357\n",
      "[8980]\tvalid_0's rmse: 0.54927\n",
      "[9000]\tvalid_0's rmse: 0.549134\n",
      "[9020]\tvalid_0's rmse: 0.548929\n",
      "[9040]\tvalid_0's rmse: 0.548811\n",
      "[9060]\tvalid_0's rmse: 0.548787\n",
      "[9080]\tvalid_0's rmse: 0.548752\n",
      "[9100]\tvalid_0's rmse: 0.548673\n",
      "[9120]\tvalid_0's rmse: 0.548486\n",
      "[9140]\tvalid_0's rmse: 0.548384\n",
      "[9160]\tvalid_0's rmse: 0.54827\n",
      "[9180]\tvalid_0's rmse: 0.548295\n",
      "[9200]\tvalid_0's rmse: 0.548116\n",
      "[9220]\tvalid_0's rmse: 0.547847\n",
      "[9240]\tvalid_0's rmse: 0.547774\n",
      "[9260]\tvalid_0's rmse: 0.547767\n",
      "[9280]\tvalid_0's rmse: 0.547677\n",
      "[9300]\tvalid_0's rmse: 0.547561\n",
      "[9320]\tvalid_0's rmse: 0.547485\n",
      "[9340]\tvalid_0's rmse: 0.547377\n",
      "[9360]\tvalid_0's rmse: 0.547296\n",
      "[9380]\tvalid_0's rmse: 0.547182\n",
      "[9400]\tvalid_0's rmse: 0.547178\n",
      "[9420]\tvalid_0's rmse: 0.547115\n",
      "[9440]\tvalid_0's rmse: 0.547077\n",
      "[9460]\tvalid_0's rmse: 0.546881\n",
      "[9480]\tvalid_0's rmse: 0.54676\n",
      "[9500]\tvalid_0's rmse: 0.546623\n",
      "[9520]\tvalid_0's rmse: 0.546597\n",
      "[9540]\tvalid_0's rmse: 0.546484\n",
      "[9560]\tvalid_0's rmse: 0.546401\n",
      "[9580]\tvalid_0's rmse: 0.546287\n",
      "[9600]\tvalid_0's rmse: 0.546118\n",
      "[9620]\tvalid_0's rmse: 0.546045\n",
      "[9640]\tvalid_0's rmse: 0.546044\n",
      "[9660]\tvalid_0's rmse: 0.545924\n",
      "[9680]\tvalid_0's rmse: 0.545812\n",
      "[9700]\tvalid_0's rmse: 0.54573\n",
      "[9720]\tvalid_0's rmse: 0.545624\n",
      "[9740]\tvalid_0's rmse: 0.545485\n",
      "[9760]\tvalid_0's rmse: 0.545481\n",
      "[9780]\tvalid_0's rmse: 0.545481\n",
      "[9800]\tvalid_0's rmse: 0.545458\n",
      "[9820]\tvalid_0's rmse: 0.545281\n",
      "[9840]\tvalid_0's rmse: 0.545162\n",
      "[9860]\tvalid_0's rmse: 0.545064\n",
      "[9880]\tvalid_0's rmse: 0.544921\n",
      "[9900]\tvalid_0's rmse: 0.544884\n",
      "[9920]\tvalid_0's rmse: 0.544808\n",
      "[9940]\tvalid_0's rmse: 0.544646\n",
      "[9960]\tvalid_0's rmse: 0.544515\n",
      "[9980]\tvalid_0's rmse: 0.544436\n",
      "[10000]\tvalid_0's rmse: 0.544365\n",
      "Did not meet early stopping. Best iteration is:\n",
      "[10000]\tvalid_0's rmse: 0.544365\n"
     ]
    }
   ],
   "source": [
    "pred_test, model = runLGB(X_train, y_train, X_test, y_test)"
   ]
  },
  {
   "cell_type": "code",
   "execution_count": 47,
   "metadata": {},
   "outputs": [
    {
     "data": {
      "text/plain": [
       "0.5443648984753046"
      ]
     },
     "execution_count": 47,
     "metadata": {},
     "output_type": "execute_result"
    }
   ],
   "source": [
    "rmse_lightgbm=np.sqrt(mean_squared_error(y_test, pred_test))\n",
    "rmse_lightgbm"
   ]
  },
  {
   "cell_type": "markdown",
   "metadata": {},
   "source": [
    "### Summary of the Models"
   ]
  },
  {
   "cell_type": "code",
   "execution_count": 51,
   "metadata": {
    "scrolled": true
   },
   "outputs": [
    {
     "data": {
      "text/html": [
       "<div>\n",
       "<style scoped>\n",
       "    .dataframe tbody tr th:only-of-type {\n",
       "        vertical-align: middle;\n",
       "    }\n",
       "\n",
       "    .dataframe tbody tr th {\n",
       "        vertical-align: top;\n",
       "    }\n",
       "\n",
       "    .dataframe thead th {\n",
       "        text-align: right;\n",
       "    }\n",
       "</style>\n",
       "<table border=\"1\" class=\"dataframe\">\n",
       "  <thead>\n",
       "    <tr style=\"text-align: right;\">\n",
       "      <th></th>\n",
       "      <th>Model</th>\n",
       "      <th>RMSE</th>\n",
       "    </tr>\n",
       "  </thead>\n",
       "  <tbody>\n",
       "    <tr>\n",
       "      <th>0</th>\n",
       "      <td>Linear Regression</td>\n",
       "      <td>3.745617</td>\n",
       "    </tr>\n",
       "    <tr>\n",
       "      <th>1</th>\n",
       "      <td>Xgboost</td>\n",
       "      <td>3.261035</td>\n",
       "    </tr>\n",
       "    <tr>\n",
       "      <th>2</th>\n",
       "      <td>LightGBM</td>\n",
       "      <td>0.544365</td>\n",
       "    </tr>\n",
       "  </tbody>\n",
       "</table>\n",
       "</div>"
      ],
      "text/plain": [
       "               Model      RMSE\n",
       "0  Linear Regression  3.745617\n",
       "1            Xgboost  3.261035\n",
       "2           LightGBM  0.544365"
      ]
     },
     "execution_count": 51,
     "metadata": {},
     "output_type": "execute_result"
    }
   ],
   "source": [
    "d = {'Model':['Linear Regression','Xgboost','LightGBM'],'RMSE': [rmse_reg,rmse_xgb,rmse_lightgbm]}\n",
    "df = pd.DataFrame(data=d)\n",
    "df"
   ]
  },
  {
   "cell_type": "code",
   "execution_count": 52,
   "metadata": {
    "scrolled": true
   },
   "outputs": [
    {
     "name": "stdout",
     "output_type": "stream",
     "text": [
      "Plot feature importances...\n"
     ]
    },
    {
     "data": {
      "image/png": "[encoded data removed]",
      "text/plain": [
       "<Figure size 432x288 with 1 Axes>"
      ]
     },
     "metadata": {},
     "output_type": "display_data"
    }
   ],
   "source": [
    "print('Plot feature importances...')\n",
    "ax = lgb.plot_importance(model, max_num_features=10, height = 0.5)\n",
    "plt.show()"
   ]
  },
  {
   "cell_type": "markdown",
   "metadata": {},
   "source": [
    "### Our LightGBM model gave us a RMSE score of 0.544\n",
    "### Lower values of RMSE indicate better fit. RMSE is a good measure of how accurately the model predicts the response, and it is the most important criterion for fit if the main purpose of the model is prediction.\n",
    "### This can be improved by tuning our hyperparameters (learning_rate, max_depth, max_bins, num_leaves etc..), performing some feature engineering to create a better set of predictor variables, ensembling/stacking our tree models.\n",
    "### Linear regression and XGboost can be tuned properly to acheive lower RMSE but it involves more computational power."
   ]
  },
  {
   "cell_type": "markdown",
   "metadata": {
    "colab_type": "text",
    "id": "yJ0ZN18Ayr8o"
   },
   "source": [
    "## Question 5\n",
    "Choose only one of these options to answer for Question 5. There is no preference as to which one you choose. Please select the question that you feel your particular skills and/or expertise are best suited to. If you answer more than one, only the first will be scored."
   ]
  },
  {
   "cell_type": "markdown",
   "metadata": {
    "colab_type": "text",
    "id": "dQOlqZ0mzU3h"
   },
   "source": [
    "### Option A:Distibutions\n",
    "##### Build a derived variable representing the average speed over the course of a trip."
   ]
  },
  {
   "cell_type": "code",
   "execution_count": 140,
   "metadata": {},
   "outputs": [],
   "source": [
    "nyc_trip['travel_time'] = ((nyc_trip['Lpep_dropoff_datetime']-nyc_trip['lpep_pickup_datetime']).dt.seconds)/3600\n",
    "nyc_trip['average_speed'] = (nyc_trip['Trip_distance']/nyc_trip['travel_time'])"
   ]
  },
  {
   "cell_type": "code",
   "execution_count": 141,
   "metadata": {},
   "outputs": [
    {
     "data": {
      "text/plain": [
       "(1473776, 34)"
      ]
     },
     "execution_count": 141,
     "metadata": {},
     "output_type": "execute_result"
    }
   ],
   "source": [
    "## Remove all entries greater than 120 mph\n",
    "nyc_trip = nyc_trip[nyc_trip['average_speed'] <120]\n",
    "nyc_trip.shape"
   ]
  },
  {
   "cell_type": "code",
   "execution_count": 142,
   "metadata": {
    "scrolled": true
   },
   "outputs": [
    {
     "data": {
      "image/png": "[encoded data removed]",
      "text/plain": [
       "<Figure size 864x576 with 1 Axes>"
      ]
     },
     "metadata": {},
     "output_type": "display_data"
    }
   ],
   "source": [
    "## Scatter plot for averagespeed and traveltime\n",
    "plt.figure(figsize=(12,8))\n",
    "ax = sns.scatterplot(x=\"travel_time\", y=\"average_speed\", data=nyc_trip)\n",
    "plt.show()"
   ]
  },
  {
   "cell_type": "markdown",
   "metadata": {},
   "source": [
    "##### Can you perform a test to determine if the average trip speeds are materially the same in all weeks of September? If you decide they are not the same, can you form a hypothesis regarding why they differ?\n"
   ]
  },
  {
   "cell_type": "code",
   "execution_count": 143,
   "metadata": {},
   "outputs": [],
   "source": [
    "nyc_trip.drop(['Ehail_fee','tip_percent'], axis=1, inplace=True)\n",
    "nyc_trip['week'] = nyc_trip['Lpep_dropoff_datetime'].apply(lambda x: x.week)"
   ]
  },
  {
   "cell_type": "code",
   "execution_count": 144,
   "metadata": {},
   "outputs": [],
   "source": [
    "week_1 = nyc_trip['average_speed'][nyc_trip['week']==36].values # reassign week=36 to week_1 df\n",
    "week_2 = nyc_trip['average_speed'][nyc_trip['week']==37].values # reassign week=37 to week_2 df\n",
    "week_3 = nyc_trip['average_speed'][nyc_trip['week']==38].values # reassign week=38 to week_3 df\n",
    "week_4 = nyc_trip['average_speed'][nyc_trip['week']==39].values # reassign week=39 to week_4 df\n",
    "week_5 = nyc_trip['average_speed'][nyc_trip['week']==40].values # reassign week=40 to week_5 df"
   ]
  },
  {
   "cell_type": "code",
   "execution_count": 145,
   "metadata": {
    "scrolled": true
   },
   "outputs": [
    {
     "data": {
      "text/plain": [
       "F_onewayResult(statistic=1036.396642074436, pvalue=0.0)"
      ]
     },
     "execution_count": 145,
     "metadata": {},
     "output_type": "execute_result"
    }
   ],
   "source": [
    "stats.f_oneway(week_1,week_2, week_3,week_4, week_5)"
   ]
  },
  {
   "cell_type": "markdown",
   "metadata": {},
   "source": [
    "#### Hypotheses test: The ANOVA test indicates a large f-value and a small p-value, therefore we reject the null hypothesis and we conclude that the differences between the groups are statistically significant which implies that the week of the month does seem to be related to the average speed. We further compute the mean, median and histogram for these groups to support our claims."
   ]
  },
  {
   "cell_type": "code",
   "execution_count": 146,
   "metadata": {},
   "outputs": [
    {
     "name": "stdout",
     "output_type": "stream",
     "text": [
      "13.362511743873466 12.70683970737358 12.6947270598666 13.169535513173692 12.454646793713689\n"
     ]
    }
   ],
   "source": [
    "print(week_1.mean(),week_2.mean(),week_3.mean(),week_4.mean(),week_5.mean())"
   ]
  },
  {
   "cell_type": "code",
   "execution_count": 147,
   "metadata": {
    "scrolled": true
   },
   "outputs": [
    {
     "name": "stdout",
     "output_type": "stream",
     "text": [
      "12.122448979591837 11.612903225806452 11.632887189292543 12.02260955998509 11.416490486257928\n"
     ]
    }
   ],
   "source": [
    "print(statistics.median(week_1),statistics.median(week_2),statistics.median(week_3),statistics.median(week_4),\n",
    "      statistics.median(week_5))"
   ]
  },
  {
   "cell_type": "code",
   "execution_count": 148,
   "metadata": {},
   "outputs": [
    {
     "data": {
      "image/png": "[encoded data removed]",
      "text/plain": [
       "<Figure size 1440x864 with 5 Axes>"
      ]
     },
     "metadata": {},
     "output_type": "display_data"
    }
   ],
   "source": [
    "plt.rcParams[\"figure.figsize\"] = [20,12]\n",
    "plt.subplot(3,2,1)\n",
    "plt.hist(week_1,bins = 50,label = 'week 1')\n",
    "plt.legend()\n",
    "plt.subplot(3,2,2)\n",
    "plt.hist(week_2,bins = 50,label = 'week 2')\n",
    "plt.legend()\n",
    "plt.subplot(3,2,3)\n",
    "plt.hist(week_3,bins = 50,label = 'week 3')\n",
    "plt.legend()\n",
    "plt.subplot(3,2,4)\n",
    "plt.hist(week_4,bins = 50,label = 'week 4')\n",
    "plt.legend()\n",
    "plt.subplot(3,2,5)\n",
    "plt.hist(week_5,bins = 50,label = 'week 5')\n",
    "plt.legend()\n",
    "plt.legend()\n",
    "plt.savefig('task5')\n",
    "plt.show()"
   ]
  },
  {
   "cell_type": "markdown",
   "metadata": {},
   "source": [
    "#### Can you build up a hypothesis of average trip speed as a function of time of day?"
   ]
  },
  {
   "cell_type": "code",
   "execution_count": 149,
   "metadata": {},
   "outputs": [],
   "source": [
    "grouped = nyc_trip.groupby('pickup_hour') # group by the hour\n",
    "samples = []\n",
    "for name,group in grouped:\n",
    "    samples.append(group['average_speed']) # append the avg speed data"
   ]
  },
  {
   "cell_type": "code",
   "execution_count": 150,
   "metadata": {},
   "outputs": [
    {
     "data": {
      "text/plain": [
       "F_onewayResult(statistic=4998.915898282646, pvalue=0.0)"
      ]
     },
     "execution_count": 150,
     "metadata": {},
     "output_type": "execute_result"
    }
   ],
   "source": [
    "sample = samples\n",
    "stats.f_oneway(sample[0],sample[1],sample[2],sample[3], sample[4],sample[5],sample[6],sample[7],sample[8],sample[9],\n",
    "              sample[10],sample[11],sample[12],sample[13],sample[14],sample[15],sample[16],sample[17],sample[18],\n",
    "               sample[19],\n",
    "              sample[20],sample[21],sample[22],sample[23])"
   ]
  },
  {
   "cell_type": "markdown",
   "metadata": {},
   "source": [
    "#### Hypotheses test: The ANOVA test for sets partitioned as per the hour of the journey also gives a high f-value and p-value of 0, implying that there are statistifically significant differences in the data sets considered."
   ]
  },
  {
   "cell_type": "code",
   "execution_count": 151,
   "metadata": {},
   "outputs": [
    {
     "data": {
      "text/plain": [
       "<matplotlib.axes._subplots.AxesSubplot at 0x1b07d61e240>"
      ]
     },
     "execution_count": 151,
     "metadata": {},
     "output_type": "execute_result"
    },
    {
     "data": {
      "image/png": "[encoded data removed]",
      "text/plain": [
       "<Figure size 1440x864 with 1 Axes>"
      ]
     },
     "metadata": {},
     "output_type": "display_data"
    }
   ],
   "source": [
    "grouped = nyc_trip.groupby(['pickup_hour'])['average_speed'].aggregate(np.mean).reset_index()\n",
    "sns.pointplot(grouped.pickup_hour.values, grouped.average_speed.values, alpha=0.8)"
   ]
  }
 ],
 "metadata": {
  "colab": {
   "collapsed_sections": [],
   "name": "Untitled.ipynb",
   "provenance": [],
   "version": "0.3.2"
  },
  "kernelspec": {
   "display_name": "Python 3",
   "language": "python",
   "name": "python3"
  },
  "language_info": {
   "codemirror_mode": {
    "name": "ipython",
    "version": 3
   },
   "file_extension": ".py",
   "mimetype": "text/x-python",
   "name": "python",
   "nbconvert_exporter": "python",
   "pygments_lexer": "ipython3",
   "version": "3.7.1"
  }
 },
 "nbformat": 4,
 "nbformat_minor": 1
}
